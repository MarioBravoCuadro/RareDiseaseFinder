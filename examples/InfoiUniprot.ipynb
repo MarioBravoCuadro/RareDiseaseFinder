{
  "cells": [
    {
      "cell_type": "code",
      "execution_count": 8,
      "metadata": {
        "colab": {
          "base_uri": "https://localhost:8080/"
        },
        "id": "B9eoBon_95P8",
        "outputId": "5d56851b-239b-41fc-853e-5930865a6f84"
      },
      "outputs": [],
      "source": [
        "from unipressed import *\n",
        "import pandas as pd\n",
        "import json\n",
        "#https://rest.uniprot.org/uniprotkb/P02766"
      ]
    },
    {
      "cell_type": "code",
      "execution_count": null,
      "metadata": {
        "id": "KonDym2qT9LT"
      },
      "outputs": [],
      "source": [
        "import pandas as pd\n",
        "from IPython.display import display\n",
        "\n",
        "def procesar_uniprot(uniProtID):\n",
        "    data = UniprotkbClient.fetch_one(uniProtID, parse=True)\n",
        "\n",
        "    # 1. Función\n",
        "    df_function = pd.DataFrame([{\n",
        "        \"Function\": txt.get(\"value\", \"\"),\n",
        "        \"EvidenceCode\": ev.get(\"evidenceCode\", \"⚠️ No se han encontrado datos.\"),\n",
        "        \"QuickGO\": f\"https://www.ebi.ac.uk/QuickGO/term/{ev['evidenceCode']}\" if ev.get(\"evidenceCode\") else \"⚠️ No se han encontrado datos.\",\n",
        "        \"Source\": ev.get(\"source\",\"⚠️ No se han encontrado datos.\"),\n",
        "        \"PublicationID\": ev.get(\"id\",\"⚠️ No se han encontrado datos.\"),\n",
        "        \"PubMed\": f\"https://pubmed.ncbi.nlm.nih.gov/{ev['id']}\" if ev.get(\"id\") else \"⚠️ No se han encontrado datos.\",\n",
        "\n",
        "    } for comment in data.get(\"comments\", []) if comment.get(\"commentType\") == \"FUNCTION\"\n",
        "      for txt in comment.get(\"texts\", [])\n",
        "      for ev in txt.get(\"evidences\", [{}])\n",
        "      ])\n",
        "\n",
        "    # 2. Subcellular Location (desnormalizado)\n",
        "\n",
        "    df_subcellular = pd.DataFrame([{\n",
        "        \"Value\": loc.get(\"location\", {}).get(\"value\", \"\"),\n",
        "        \"ID\": loc.get(\"location\", {}).get(\"id\", \"\")\n",
        "    }\n",
        "    for comment in data.get(\"comments\", []) if comment.get(\"commentType\") == \"SUBCELLULAR LOCATION\"\n",
        "    for loc in comment.get(\"subcellularLocations\", [])\n",
        "    ])\n",
        "\n",
        "    df_subcellular_godata = pd.DataFrame([\n",
        "        {\n",
        "            \"GO_ID\": reference.get(\"id\", \"\"),\n",
        "            \"GO_TERM and Evidence\": f\"{go_term} ({evidence})\" if go_term else \"\",\n",
        "            \"Link source\": f\"https://www.ebi.ac.uk/QuickGO/term/{reference['id']}\"\n",
        "        }\n",
        "        for reference in data.get(\"uniProtKBCrossReferences\", [])\n",
        "        if reference.get(\"database\") == \"GO\"\n",
        "        for go_term, evidence in [(\n",
        "            next((p[\"value\"] for p in reference.get(\"properties\", []) if p.get(\"key\") == \"GoTerm\"), \"\"),\n",
        "            next((p[\"value\"] for p in reference.get(\"properties\", []) if p.get(\"key\") == \"GoEvidenceType\"), \"\")\n",
        "        )]\n",
        "    ])\n",
        "\n",
        "\n",
        "    # 3. Enfermedades (desnormalizado)\n",
        "    df_disease = pd.DataFrame([{\n",
        "\n",
        "    \"Nombre\": comment.get(\"disease\", {}).get(\"diseaseId\"),\n",
        "    \"Acronym\": comment.get(\"disease\", {}).get(\"acronym\"),\n",
        "    \"Description\": comment.get(\"disease\", {}).get(\"description\"),\n",
        "    \"OMIM\": f\"https://www.omim.org/entry/\"+comment.get(\"disease\", {}).get(\"diseaseCrossReference\", {}).get(\"id\"),\n",
        "    \"Publications\": \", \".join(ev.get(\"id\") for ev in comment.get(\"disease\", {}).get(\"evidences\", []) if ev.get(\"id\"))\n",
        "    } for comment in data.get(\"comments\", []) if comment.get(\"commentType\") == \"DISEASE\"\n",
        "    ])\n",
        "\n",
        "    df_disease_publications = pd.DataFrame([{\n",
        "    \"DiseaseID\": comment.get(\"disease\", {}).get(\"diseaseId\"),  # Clave foránea\n",
        "    \"PubMed\": f\"https://pubmed.ncbi.nlm.nih.gov/\"+ev.get(\"id\")\n",
        "    } for comment in data.get(\"comments\", []) if comment.get(\"commentType\") == \"DISEASE\"\n",
        "    for ev in comment.get(\"disease\", {}).get(\"evidences\", [])])\n",
        "\n",
        "    # 4. Variantes (desnormalizado)\n",
        "    df_variants = pd.DataFrame({\n",
        "        \"Description\": [feature.get(\"description\")\n",
        "                        for feature in data.get(\"features\", [])\n",
        "                        if feature.get(\"type\") == \"Natural variant\"],\n",
        "        \"Publications\": [\", \".join(ev.get(\"id\") for ev in feature.get(\"evidences\", [])\n",
        "                         if ev.get(\"id\"))\n",
        "                         for feature in data.get(\"features\", [])\n",
        "                         if feature.get(\"type\") == \"Natural variant\"]\n",
        "    })\n",
        "\n",
        "    # 5. Interacciones (desnormalizado)\n",
        "    df_interactions = pd.DataFrame([{\n",
        "        \"Interactor\": inter.get(\"interactantTwo\", {}).get(\"uniProtKBAccession\"),\n",
        "        \"GeneName\": inter.get(\"interactantTwo\", {}).get(\"geneName\"),\n",
        "        \"NumExperiments\": inter.get(\"numberOfExperiments\")\n",
        "    } for comment in data.get(\"comments\", []) if comment.get(\"commentType\") == \"INTERACTION\"\n",
        "      for inter in comment.get(\"interactions\", [])\n",
        "\n",
        "    ]).sort_values(by=\"NumExperiments\", ascending=False)\n",
        "\n",
        "    # Mostrar los DataFrames\n",
        "    mostrar_dataframe(\"1. Función\", df_function)\n",
        "    mostrar_dataframe(\"2.1. Subcellular Location\", df_subcellular)\n",
        "    mostrar_dataframe(\"2.2. Subcellular Location\", df_subcellular_godata)\n",
        "    mostrar_dataframe(\"3. Enfermedades\", df_disease)\n",
        "    for name, df in df_disease_publications.groupby(\"DiseaseID\"):\n",
        "      mostrar_dataframe(f\"## Publicaciones enfermedad: {name}\", df)\n",
        "      display(Markdown(\"---\"))\n",
        "    mostrar_dataframe(\"4. Variantes\", df_variants)\n",
        "    mostrar_dataframe(\"5. Interacciones con: \", df_interactions)\n",
        "\n",
        "    # Esto sería para devolver los dataframes para cuando desacomplemos la interfaz\n",
        "    # return {\n",
        "      #  \"Function\": df_function,\n",
        "      #  \"Subcellular Location\": df_subcellular,\n",
        "      #  \"Disease\": df_disease,\n",
        "      #  \"Variants\": df_variants,\n",
        "      #  \"Interactions\": df_interactions\n",
        "    #}\n"
      ]
    },
    {
      "cell_type": "code",
      "execution_count": 3,
      "metadata": {
        "id": "JGEUwZeOB2G_"
      },
      "outputs": [],
      "source": [
        "from IPython.display import display, Markdown\n",
        "def mostrar_dataframe(titulo, df):\n",
        "      \"\"\" Muestra un DataFrame con título o un mensaje si está vacío \"\"\"\n",
        "      display(Markdown(f\"## {titulo}\"))\n",
        "      if df.empty:\n",
        "          display(Markdown(\"> ⚠️ No se han encontrado datos.\"))\n",
        "      else:\n",
        "          display(Markdown(df.to_markdown(index=False)))"
      ]
    },
    {
      "cell_type": "code",
      "execution_count": 4,
      "metadata": {
        "colab": {
          "base_uri": "https://localhost:8080/",
          "height": 1000
        },
        "id": "twFtphoMAuBJ",
        "outputId": "6ca5837e-668e-45a5-b177-cd1c7368142a"
      },
      "outputs": [
        {
          "data": {
            "text/markdown": [
              "# FANCA_HUMAN: O15360"
            ],
            "text/plain": [
              "<IPython.core.display.Markdown object>"
            ]
          },
          "metadata": {},
          "output_type": "display_data"
        },
        {
          "data": {
            "text/markdown": [
              "## 1. Función"
            ],
            "text/plain": [
              "<IPython.core.display.Markdown object>"
            ]
          },
          "metadata": {},
          "output_type": "display_data"
        },
        {
          "data": {
            "text/markdown": [
              "| Function                                                                                                                                                                                                        | EvidenceCode                   | QuickGO                        | Source                         | PublicationID                  | PubMed                         |\n",
              "|:----------------------------------------------------------------------------------------------------------------------------------------------------------------------------------------------------------------|:-------------------------------|:-------------------------------|:-------------------------------|:-------------------------------|:-------------------------------|\n",
              "| DNA repair protein that may operate in a postreplication repair or a cell cycle checkpoint function. May be involved in interstrand DNA cross-link repair and in the maintenance of normal chromosome stability | ⚠️ No se han encontrado datos. | ⚠️ No se han encontrado datos. | ⚠️ No se han encontrado datos. | ⚠️ No se han encontrado datos. | ⚠️ No se han encontrado datos. |"
            ],
            "text/plain": [
              "<IPython.core.display.Markdown object>"
            ]
          },
          "metadata": {},
          "output_type": "display_data"
        },
        {
          "data": {
            "text/markdown": [
              "## 2.1. Subcellular Location"
            ],
            "text/plain": [
              "<IPython.core.display.Markdown object>"
            ]
          },
          "metadata": {},
          "output_type": "display_data"
        },
        {
          "data": {
            "text/markdown": [
              "| Value     | ID      |\n",
              "|:----------|:--------|\n",
              "| Nucleus   | SL-0191 |\n",
              "| Cytoplasm | SL-0086 |"
            ],
            "text/plain": [
              "<IPython.core.display.Markdown object>"
            ]
          },
          "metadata": {},
          "output_type": "display_data"
        },
        {
          "data": {
            "text/markdown": [
              "## 2.2. Subcellular Location"
            ],
            "text/plain": [
              "<IPython.core.display.Markdown object>"
            ]
          },
          "metadata": {},
          "output_type": "display_data"
        },
        {
          "data": {
            "text/markdown": [
              "| GO_ID      | GO_TERM and Evidence                                               | Link source                                   |\n",
              "|:-----------|:-------------------------------------------------------------------|:----------------------------------------------|\n",
              "| GO:0000785 | C:chromatin (IDA:ComplexPortal)                                    | https://www.ebi.ac.uk/QuickGO/term/GO:0000785 |\n",
              "| GO:0005737 | C:cytoplasm (TAS:ProtInc)                                          | https://www.ebi.ac.uk/QuickGO/term/GO:0005737 |\n",
              "| GO:0005829 | C:cytosol (TAS:Reactome)                                           | https://www.ebi.ac.uk/QuickGO/term/GO:0005829 |\n",
              "| GO:0043240 | C:Fanconi anaemia nuclear complex (IDA:UniProtKB)                  | https://www.ebi.ac.uk/QuickGO/term/GO:0043240 |\n",
              "| GO:0005654 | C:nucleoplasm (IDA:HPA)                                            | https://www.ebi.ac.uk/QuickGO/term/GO:0005654 |\n",
              "| GO:0005634 | C:nucleus (IDA:BHF-UCL)                                            | https://www.ebi.ac.uk/QuickGO/term/GO:0005634 |\n",
              "| GO:0006281 | P:DNA repair (TAS:ProtInc)                                         | https://www.ebi.ac.uk/QuickGO/term/GO:0006281 |\n",
              "| GO:0008585 | P:female gonad development (IEA:Ensembl)                           | https://www.ebi.ac.uk/QuickGO/term/GO:0008585 |\n",
              "| GO:0036297 | P:interstrand cross-link repair (NAS:ComplexPortal)                | https://www.ebi.ac.uk/QuickGO/term/GO:0036297 |\n",
              "| GO:0008584 | P:male gonad development (IEA:Ensembl)                             | https://www.ebi.ac.uk/QuickGO/term/GO:0008584 |\n",
              "| GO:0007140 | P:male meiotic nuclear division (IEA:Ensembl)                      | https://www.ebi.ac.uk/QuickGO/term/GO:0007140 |\n",
              "| GO:0065003 | P:protein-containing complex assembly (TAS:ProtInc)                | https://www.ebi.ac.uk/QuickGO/term/GO:0065003 |\n",
              "| GO:2000348 | P:regulation of CD40 signaling pathway (IEA:Ensembl)               | https://www.ebi.ac.uk/QuickGO/term/GO:2000348 |\n",
              "| GO:1905936 | P:regulation of germ cell proliferation (IEA:Ensembl)              | https://www.ebi.ac.uk/QuickGO/term/GO:1905936 |\n",
              "| GO:0050727 | P:regulation of inflammatory response (IEA:Ensembl)                | https://www.ebi.ac.uk/QuickGO/term/GO:0050727 |\n",
              "| GO:0045589 | P:regulation of regulatory T cell differentiation (IBA:GO_Central) | https://www.ebi.ac.uk/QuickGO/term/GO:0045589 |"
            ],
            "text/plain": [
              "<IPython.core.display.Markdown object>"
            ]
          },
          "metadata": {},
          "output_type": "display_data"
        },
        {
          "data": {
            "text/markdown": [
              "## 3. Enfermedades"
            ],
            "text/plain": [
              "<IPython.core.display.Markdown object>"
            ]
          },
          "metadata": {},
          "output_type": "display_data"
        },
        {
          "data": {
            "text/markdown": [
              "| Nombre                                  | Acronym   | Description                                                                                                                                                                                                                                                                                                                                                                                                                 | OMIM                              | Publications                                                                          |\n",
              "|:----------------------------------------|:----------|:----------------------------------------------------------------------------------------------------------------------------------------------------------------------------------------------------------------------------------------------------------------------------------------------------------------------------------------------------------------------------------------------------------------------------|:----------------------------------|:--------------------------------------------------------------------------------------|\n",
              "| Fanconi anemia, complementation group A | FANCA     | A disorder affecting all bone marrow elements and resulting in anemia, leukopenia and thrombopenia. It is associated with cardiac, renal and limb malformations, dermal pigmentary changes, and a predisposition to the development of malignancies. At the cellular level it is associated with hypersensitivity to DNA-damaging agents, chromosomal instability (increased chromosome breakage) and defective DNA repair. | https://www.omim.org/entry/227650 | 10094191, 10210316, 10521298, 10807541, 11091222, 17924555, 9371798, 9399890, 9929978 |"
            ],
            "text/plain": [
              "<IPython.core.display.Markdown object>"
            ]
          },
          "metadata": {},
          "output_type": "display_data"
        },
        {
          "data": {
            "text/markdown": [
              "## ## Publicaciones enfermedad: Fanconi anemia, complementation group A"
            ],
            "text/plain": [
              "<IPython.core.display.Markdown object>"
            ]
          },
          "metadata": {},
          "output_type": "display_data"
        },
        {
          "data": {
            "text/markdown": [
              "| DiseaseID                               | PubMed                                   |\n",
              "|:----------------------------------------|:-----------------------------------------|\n",
              "| Fanconi anemia, complementation group A | https://pubmed.ncbi.nlm.nih.gov/10094191 |\n",
              "| Fanconi anemia, complementation group A | https://pubmed.ncbi.nlm.nih.gov/10210316 |\n",
              "| Fanconi anemia, complementation group A | https://pubmed.ncbi.nlm.nih.gov/10521298 |\n",
              "| Fanconi anemia, complementation group A | https://pubmed.ncbi.nlm.nih.gov/10807541 |\n",
              "| Fanconi anemia, complementation group A | https://pubmed.ncbi.nlm.nih.gov/11091222 |\n",
              "| Fanconi anemia, complementation group A | https://pubmed.ncbi.nlm.nih.gov/17924555 |\n",
              "| Fanconi anemia, complementation group A | https://pubmed.ncbi.nlm.nih.gov/9371798  |\n",
              "| Fanconi anemia, complementation group A | https://pubmed.ncbi.nlm.nih.gov/9399890  |\n",
              "| Fanconi anemia, complementation group A | https://pubmed.ncbi.nlm.nih.gov/9929978  |"
            ],
            "text/plain": [
              "<IPython.core.display.Markdown object>"
            ]
          },
          "metadata": {},
          "output_type": "display_data"
        },
        {
          "data": {
            "text/markdown": [
              "---"
            ],
            "text/plain": [
              "<IPython.core.display.Markdown object>"
            ]
          },
          "metadata": {},
          "output_type": "display_data"
        },
        {
          "data": {
            "text/markdown": [
              "## 4. Variantes"
            ],
            "text/plain": [
              "<IPython.core.display.Markdown object>"
            ]
          },
          "metadata": {},
          "output_type": "display_data"
        },
        {
          "data": {
            "text/markdown": [
              "| Description                                   | Publications                                                 |\n",
              "|:----------------------------------------------|:-------------------------------------------------------------|\n",
              "| in dbSNP:rs1800282                            |                                                              |\n",
              "| in FANCA; benign; dbSNP:rs76275444            | 9371798                                                      |\n",
              "| in dbSNP:rs34491278                           |                                                              |\n",
              "| in dbSNP:rs35566151                           |                                                              |\n",
              "| in FANCA; benign; dbSNP:rs17232246            | 9371798                                                      |\n",
              "| in FANCA; dbSNP:rs2040601073                  | 17924555                                                     |\n",
              "| in FANCA; dbSNP:rs2040522671                  | 9371798                                                      |\n",
              "| in FANCA; benign; dbSNP:rs17225943            | 9371798                                                      |\n",
              "| in dbSNP:rs7190823                            | 15489334, 18987736, 9399890, Ref.4                           |\n",
              "| in dbSNP:rs35880318                           |                                                              |\n",
              "| in dbSNP:rs13336566                           |                                                              |\n",
              "| in dbSNP:rs11646374                           | 18987736                                                     |\n",
              "| in FANCA; dbSNP:rs148473140                   | 9371798                                                      |\n",
              "| in FANCA; dbSNP:rs925457555                   | 9371798                                                      |\n",
              "| in dbSNP:rs2239359                            | 18987736, 8896563, 9169126, 9371798, 9399890, 9721219, Ref.4 |\n",
              "| in FANCA; dbSNP:rs2039605345                  | 10094191, 10521298                                           |\n",
              "| in dbSNP:rs17232910                           |                                                              |\n",
              "| in FANCA; dbSNP:rs1567621042                  | 17924555                                                     |\n",
              "| in dbSNP:rs1131660                            | 14702039, 8896563                                            |\n",
              "| in dbSNP:rs45441106                           | 9371798                                                      |\n",
              "| in dbSNP:rs2039276663                         | 17924555                                                     |\n",
              "| in dbSNP:rs7195066                            | 18987736, 9371798, 9399890, Ref.4                            |\n",
              "| in FANCA; dbSNP:rs1307805145                  | 9371798                                                      |\n",
              "| in FANCA; dbSNP:rs374030577                   | 17924555                                                     |\n",
              "| in FANCA; dbSNP:rs1173704265                  | 9371798                                                      |\n",
              "| in FANCA; dbSNP:rs17233141                    | 10094191, 11091222                                           |\n",
              "| in FANCA; dbSNP:rs780825099                   | 17924555                                                     |\n",
              "| in dbSNP:rs755922289                          | 17924555                                                     |\n",
              "| in dbSNP:rs755546887                          | 17924555                                                     |\n",
              "| in FANCA; dbSNP:rs1429943036                  | 9371798                                                      |\n",
              "| in FANCA; dbSNP:rs753063086                   | 9929978                                                      |\n",
              "| in FANCA                                      | 10807541                                                     |\n",
              "| in FANCA; benign; dbSNP:rs17233497            | 10094191, 18987736                                           |\n",
              "| in FANCA; loss of function; dbSNP:rs752837228 | 10210316, 10521298                                           |\n",
              "| in FANCA; dbSNP:rs149277003                   | 10210316, 9371798                                            |\n",
              "| in FANCA; dbSNP:rs1439817346                  | 9371798                                                      |\n",
              "| in FANCA; dbSNP:rs574034197                   | 17924555, 9371798                                            |\n",
              "| in FANCA; dbSNP:rs753316789                   | 17924555                                                     |\n",
              "| in FANCA; dbSNP:rs1555534579                  | 10521298                                                     |\n",
              "| in FANCA                                      | 10521298, 9371798                                            |\n",
              "| in dbSNP:rs17227354                           |                                                              |\n",
              "| in FANCA; dbSNP:rs878853665                   | 9371798                                                      |\n",
              "| in FANCA; dbSNP:rs182657062                   | 10521298, 17924555                                           |\n",
              "| in dbSNP:rs9282681                            | 9371798                                                      |\n",
              "| in FANCA; likely benign; dbSNP:rs17227396     | 17924555                                                     |\n",
              "| in FANCA; dbSNP:rs1555533313                  | 9399890                                                      |\n",
              "| in FANCA; dbSNP:rs1555533300                  | 10521298                                                     |\n",
              "| in FANCA; dbSNP:rs149851163                   | 17924555                                                     |\n",
              "| in FANCA; dbSNP:rs17227403                    | 9371798                                                      |"
            ],
            "text/plain": [
              "<IPython.core.display.Markdown object>"
            ]
          },
          "metadata": {},
          "output_type": "display_data"
        },
        {
          "data": {
            "text/markdown": [
              "## 5. Interacciones con: "
            ],
            "text/plain": [
              "<IPython.core.display.Markdown object>"
            ]
          },
          "metadata": {},
          "output_type": "display_data"
        },
        {
          "data": {
            "text/markdown": [
              "| Interactor   | GeneName   |   NumExperiments |\n",
              "|:-------------|:-----------|-----------------:|\n",
              "| O15287       | FANCG      |               23 |\n",
              "| Q6NZ36-1     | FAAP20     |                5 |\n",
              "| O15287       | FANCG      |                5 |\n",
              "| Q9NPI8       | FANCF      |                5 |\n",
              "| Q0VG06       | FAAP100    |                4 |\n",
              "| P62993       | GRB2       |                2 |"
            ],
            "text/plain": [
              "<IPython.core.display.Markdown object>"
            ]
          },
          "metadata": {},
          "output_type": "display_data"
        }
      ],
      "source": [
        "#display(Markdown(\"# Transthyretin: P02766\"))\n",
        "#procesar_uniprot(\"P02766\")\n",
        "\n",
        "display(Markdown(\"# FANCA_HUMAN: O15360\"))\n",
        "procesar_uniprot(\"O15360\")"
      ]
    }
  ],
  "metadata": {
    "colab": {
      "provenance": []
    },
    "kernelspec": {
      "display_name": "rarediseasefinder-HQxgFWWN-py3.10",
      "language": "python",
      "name": "python3"
    },
    "language_info": {
      "codemirror_mode": {
        "name": "ipython",
        "version": 3
      },
      "file_extension": ".py",
      "mimetype": "text/x-python",
      "name": "python",
      "nbconvert_exporter": "python",
      "pygments_lexer": "ipython3",
      "version": "3.10.8"
    }
  },
  "nbformat": 4,
  "nbformat_minor": 0
}
