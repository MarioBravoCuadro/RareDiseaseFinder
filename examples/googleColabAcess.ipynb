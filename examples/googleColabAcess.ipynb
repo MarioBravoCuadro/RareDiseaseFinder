{
  "nbformat": 4,
  "nbformat_minor": 0,
  "metadata": {
    "colab": {
      "provenance": []
    },
    "kernelspec": {
      "name": "python3",
      "display_name": "Python 3"
    },
    "language_info": {
      "name": "python"
    }
  },
  "cells": [
    {
      "cell_type": "markdown",
      "source": [
        "# Código necesario para el procesamiento de datos"
      ],
      "metadata": {
        "id": "XT87hxx7XesR"
      }
    },
    {
      "cell_type": "code",
      "source": [
        "import requests\n",
        "import pandas as pd\n",
        "from pandas import ExcelWriter\n",
        "from IPython.display import display, Markdown\n",
        "\n",
        "\n",
        "pd.set_option('display.max_colwidth', None)  # Mostrar el contenido completo de las celdas\n",
        "pd.set_option('display.max_rows', None)      # Mostrar todas las filas\n",
        "pd.set_option('display.max_columns', None)   # Mostrar todas las columnas"
      ],
      "metadata": {
        "id": "YeEkO9edwILX"
      },
      "execution_count": 1,
      "outputs": []
    },
    {
      "cell_type": "markdown",
      "source": [
        "# Código necesario para acceder a Sellekchem. Pendiente de separarlo en un módulo"
      ],
      "metadata": {
        "id": "tUz8xTKWTXIw"
      }
    },
    {
      "cell_type": "code",
      "source": [
        "%pip install -q google-colab-selenium[undetected]"
      ],
      "metadata": {
        "id": "oBKJAresUVNc",
        "colab": {
          "base_uri": "https://localhost:8080/"
        },
        "outputId": "f0769363-8c1f-4b81-dd3f-2a9fd84e2e61"
      },
      "execution_count": 2,
      "outputs": [
        {
          "output_type": "stream",
          "name": "stdout",
          "text": [
            "\u001b[?25l     \u001b[90m━━━━━━━━━━━━━━━━━━━━━━━━━━━━━━━━━━━━━━━━\u001b[0m \u001b[32m0.0/65.4 kB\u001b[0m \u001b[31m?\u001b[0m eta \u001b[36m-:--:--\u001b[0m\r\u001b[2K     \u001b[90m━━━━━━━━━━━━━━━━━━━━━━━━━━━━━━━━━━━━━━━━\u001b[0m \u001b[32m65.4/65.4 kB\u001b[0m \u001b[31m2.5 MB/s\u001b[0m eta \u001b[36m0:00:00\u001b[0m\n",
            "\u001b[?25h  Preparing metadata (setup.py) ... \u001b[?25l\u001b[?25hdone\n",
            "\u001b[2K   \u001b[90m━━━━━━━━━━━━━━━━━━━━━━━━━━━━━━━━━━━━━━━━\u001b[0m \u001b[32m9.4/9.4 MB\u001b[0m \u001b[31m40.6 MB/s\u001b[0m eta \u001b[36m0:00:00\u001b[0m\n",
            "\u001b[2K   \u001b[90m━━━━━━━━━━━━━━━━━━━━━━━━━━━━━━━━━━━━━━━━\u001b[0m \u001b[32m492.9/492.9 kB\u001b[0m \u001b[31m17.9 MB/s\u001b[0m eta \u001b[36m0:00:00\u001b[0m\n",
            "\u001b[?25h  Building wheel for undetected-chromedriver (setup.py) ... \u001b[?25l\u001b[?25hdone\n"
          ]
        }
      ]
    },
    {
      "cell_type": "code",
      "source": [
        "import google_colab_selenium as gs\n",
        "from selenium.webdriver.chrome.options import Options\n",
        "from selenium.webdriver.common.by import By\n",
        "from selenium.webdriver.common.keys import Keys\n",
        "from selenium.webdriver.support.ui import WebDriverWait\n",
        "from selenium.webdriver.support import expected_conditions as EC\n",
        "from bs4 import BeautifulSoup\n",
        "import time\n",
        "\n",
        "# Configuración de Chrome\n",
        "options = Options()\n",
        "options.add_argument(\"--window-size=1920,1080\")\n",
        "options.add_argument(\"--disable-infobars\")\n",
        "options.add_argument(\"--disable-popup-blocking\")\n",
        "options.add_argument(\"--ignore-certificate-errors\")\n",
        "options.add_argument(\"--incognito\")\n",
        "options.add_argument(\"user-agent=Mozilla/5.0 (Windows NT 10.0; Win64; x64) AppleWebKit/537.36 (KHTML, like Gecko) Chrome/119.0.0.0 Safari/537.36\")\n",
        "\n",
        "def buscar_medicamento(termino):\n",
        "    driver = gs.Chrome(options=options)\n",
        "\n",
        "    try:\n",
        "        driver.get(\"https://www.selleckchem.com/search.html\")\n",
        "\n",
        "        # Espera explícita para el campo de búsqueda\n",
        "        search_box = WebDriverWait(driver, 10).until(\n",
        "            EC.presence_of_element_located((By.NAME, \"searchDTO.searchParam\"))\n",
        "        )\n",
        "        search_box.clear()\n",
        "        search_box.send_keys(termino + Keys.RETURN)\n",
        "\n",
        "        # Espera explícita para los resultados\n",
        "        WebDriverWait(driver, 10).until(\n",
        "            EC.presence_of_element_located((By.CSS_SELECTOR, \"tr[name='productList']\")))\n",
        "\n",
        "        html = driver.page_source\n",
        "        driver.quit()\n",
        "        return html\n",
        "\n",
        "    except Exception as e:\n",
        "        print(\"❌ Error:\", e)\n",
        "        driver.quit()\n",
        "        return None\n",
        "\n",
        "def extraer_medicamentos(html):\n",
        "    soup = BeautifulSoup(html, 'html.parser')\n",
        "    medicamentos = []\n",
        "    filas = soup.find_all('tr', attrs={'name': 'productList'})\n",
        "\n",
        "    for fila in filas:\n",
        "        td_catalogo = fila.find('td', class_='posRel')\n",
        "        catalogo = td_catalogo.get_text(strip=True) if td_catalogo else \"N/A\"\n",
        "\n",
        "        enlace = fila.find('a', class_='blue f15 bold')\n",
        "        nombre_producto = enlace.get_text(strip=True) if enlace else \"N/A\"\n",
        "        link = enlace.get(\"href\") if enlace else \"N/A\"\n",
        "\n",
        "        p_tags = fila.find_all('p')\n",
        "        descripcion = p_tags[1].get_text(strip=True) if len(p_tags) > 1 else \"No description\"\n",
        "\n",
        "        medicamentos.append({\n",
        "            \"Catalog No.\": catalogo,\n",
        "            \"Product Name\": nombre_producto,\n",
        "            \"Link\": link,\n",
        "            \"Description\": descripcion\n",
        "        })\n",
        "\n",
        "    return medicamentos\n",
        "\n",
        "# ======================\n",
        "# FUNCIÓN REUTILIZABLE\n",
        "# ======================\n",
        "def obtener_link_selleckchem(farmaco):\n",
        "    \"\"\"Obtiene el primer link relevante de Selleckchem para un fármaco\n",
        "    Args:\n",
        "        farmaco (str): Nombre del fármaco (ej: 'gemfibrozil')\n",
        "    Returns:\n",
        "        str: URL completa o None si hay error\n",
        "    \"\"\"\n",
        "    try:\n",
        "        html = buscar_medicamento(farmaco)\n",
        "        if not html:\n",
        "            return None\n",
        "\n",
        "        productos = extraer_medicamentos(html)\n",
        "        if productos:\n",
        "            primer_link = f\"www.selleckchem.com{productos[0]['Link']}\"\n",
        "            return primer_link\n",
        "        return None\n",
        "\n",
        "    except Exception as e:\n",
        "        print(f\"Error obteniendo {farmaco}: {str(e)}\")\n",
        "        return None\n",
        "\n",
        "# =======\n",
        "# PRUEBA\n",
        "# =======\n",
        "if __name__ == \"__main__\":\n",
        "    test_farmaco = \"Gemfibrozil\"\n",
        "    print(obtener_link_selleckchem(test_farmaco))"
      ],
      "metadata": {
        "colab": {
          "base_uri": "https://localhost:8080/",
          "height": 95
        },
        "id": "kqOrtaKGTY2s",
        "outputId": "6202955f-33b7-4859-ab83-824a181cabc9"
      },
      "execution_count": 3,
      "outputs": [
        {
          "output_type": "display_data",
          "data": {
            "text/plain": [
              "<IPython.core.display.HTML object>"
            ],
            "text/html": [
              "\n",
              "            <div class=\"spinner-container\">\n",
              "                <div class=\"spinner\" id=\"07106f19-5239-401e-a7c6-1fd6e9a67304-circle\"></div>\n",
              "                <div class=\"spinner-text\" id=\"07106f19-5239-401e-a7c6-1fd6e9a67304-text\">Updating and upgrading APT</div>\n",
              "            </div>\n",
              "            <style>\n",
              "                @keyframes spin {\n",
              "                    from { transform: rotate(0deg); }\n",
              "                    to { transform: rotate(360deg); }\n",
              "                }\n",
              "\n",
              "                .spinner-container {\n",
              "                    display: flex;\n",
              "                    align-items: center;\n",
              "                    margin-bottom: 3px;\n",
              "                }\n",
              "\n",
              "                .spinner {\n",
              "                    border: 3px solid rgba(0, 0, 0, 0.1);\n",
              "                    border-left-color: lightblue;\n",
              "                    border-radius: 50%;\n",
              "                    width: 12px;\n",
              "                    height: 12px;\n",
              "                    animation: spin 1s linear infinite;\n",
              "                }\n",
              "\n",
              "                .spinner-text {\n",
              "                    padding-left: 6px;\n",
              "                }\n",
              "            </style>\n",
              "        "
            ]
          },
          "metadata": {}
        },
        {
          "output_type": "display_data",
          "data": {
            "text/plain": [
              "<IPython.core.display.Javascript object>"
            ],
            "application/javascript": [
              "\n",
              "            const element = document.getElementById(\"07106f19-5239-401e-a7c6-1fd6e9a67304-circle\");\n",
              "            element.style.border = \"3px solid limegreen\";\n",
              "            element.style.animation = \"none\";\n",
              "\n",
              "            const text = document.getElementById(\"07106f19-5239-401e-a7c6-1fd6e9a67304-text\");\n",
              "            text.innerText = \"Updated and upgraded APT\";\n",
              "        "
            ]
          },
          "metadata": {}
        },
        {
          "output_type": "display_data",
          "data": {
            "text/plain": [
              "<IPython.core.display.HTML object>"
            ],
            "text/html": [
              "\n",
              "            <div class=\"spinner-container\">\n",
              "                <div class=\"spinner\" id=\"88b6ff74-bb92-4b67-90af-d3143d2e82cf-circle\"></div>\n",
              "                <div class=\"spinner-text\" id=\"88b6ff74-bb92-4b67-90af-d3143d2e82cf-text\">Downloading Google Chrome</div>\n",
              "            </div>\n",
              "            <style>\n",
              "                @keyframes spin {\n",
              "                    from { transform: rotate(0deg); }\n",
              "                    to { transform: rotate(360deg); }\n",
              "                }\n",
              "\n",
              "                .spinner-container {\n",
              "                    display: flex;\n",
              "                    align-items: center;\n",
              "                    margin-bottom: 3px;\n",
              "                }\n",
              "\n",
              "                .spinner {\n",
              "                    border: 3px solid rgba(0, 0, 0, 0.1);\n",
              "                    border-left-color: lightblue;\n",
              "                    border-radius: 50%;\n",
              "                    width: 12px;\n",
              "                    height: 12px;\n",
              "                    animation: spin 1s linear infinite;\n",
              "                }\n",
              "\n",
              "                .spinner-text {\n",
              "                    padding-left: 6px;\n",
              "                }\n",
              "            </style>\n",
              "        "
            ]
          },
          "metadata": {}
        },
        {
          "output_type": "display_data",
          "data": {
            "text/plain": [
              "<IPython.core.display.Javascript object>"
            ],
            "application/javascript": [
              "\n",
              "            const element = document.getElementById(\"88b6ff74-bb92-4b67-90af-d3143d2e82cf-circle\");\n",
              "            element.style.border = \"3px solid limegreen\";\n",
              "            element.style.animation = \"none\";\n",
              "\n",
              "            const text = document.getElementById(\"88b6ff74-bb92-4b67-90af-d3143d2e82cf-text\");\n",
              "            text.innerText = \"Downloaded Google Chrome\";\n",
              "        "
            ]
          },
          "metadata": {}
        },
        {
          "output_type": "display_data",
          "data": {
            "text/plain": [
              "<IPython.core.display.HTML object>"
            ],
            "text/html": [
              "\n",
              "            <div class=\"spinner-container\">\n",
              "                <div class=\"spinner\" id=\"69604964-0ecb-4097-90d0-3f8db0824e63-circle\"></div>\n",
              "                <div class=\"spinner-text\" id=\"69604964-0ecb-4097-90d0-3f8db0824e63-text\">Initializing Chromedriver</div>\n",
              "            </div>\n",
              "            <style>\n",
              "                @keyframes spin {\n",
              "                    from { transform: rotate(0deg); }\n",
              "                    to { transform: rotate(360deg); }\n",
              "                }\n",
              "\n",
              "                .spinner-container {\n",
              "                    display: flex;\n",
              "                    align-items: center;\n",
              "                    margin-bottom: 3px;\n",
              "                }\n",
              "\n",
              "                .spinner {\n",
              "                    border: 3px solid rgba(0, 0, 0, 0.1);\n",
              "                    border-left-color: lightblue;\n",
              "                    border-radius: 50%;\n",
              "                    width: 12px;\n",
              "                    height: 12px;\n",
              "                    animation: spin 1s linear infinite;\n",
              "                }\n",
              "\n",
              "                .spinner-text {\n",
              "                    padding-left: 6px;\n",
              "                }\n",
              "            </style>\n",
              "        "
            ]
          },
          "metadata": {}
        },
        {
          "output_type": "display_data",
          "data": {
            "text/plain": [
              "<IPython.core.display.Javascript object>"
            ],
            "application/javascript": [
              "\n",
              "            const element = document.getElementById(\"69604964-0ecb-4097-90d0-3f8db0824e63-circle\");\n",
              "            element.style.border = \"3px solid limegreen\";\n",
              "            element.style.animation = \"none\";\n",
              "\n",
              "            const text = document.getElementById(\"69604964-0ecb-4097-90d0-3f8db0824e63-text\");\n",
              "            text.innerText = \"Initialized Chromedriver\";\n",
              "        "
            ]
          },
          "metadata": {}
        },
        {
          "output_type": "stream",
          "name": "stdout",
          "text": [
            "www.selleckchem.com/products/Gemfibrozil(Lopid).html\n"
          ]
        }
      ]
    },
    {
      "cell_type": "markdown",
      "source": [
        "# Definir la URL del endpoint de la API de Pharos"
      ],
      "metadata": {
        "id": "GPNcWgdwwMQc"
      }
    },
    {
      "cell_type": "code",
      "source": [
        "graphql_url = \"https://pharos-api.ncats.io/graphql\""
      ],
      "metadata": {
        "id": "5jtfW4BSwRCe"
      },
      "execution_count": 4,
      "outputs": []
    },
    {
      "cell_type": "markdown",
      "source": [
        "# Definir la consulta GraphQL"
      ],
      "metadata": {
        "id": "qNj6ih8CwUBy"
      }
    },
    {
      "cell_type": "code",
      "source": [
        "query = \"\"\"\n",
        "query ObtenerInfoVariante {\n",
        "  target(q: { sym: \"TTR\" }) {\n",
        "    nombre: name\n",
        "    uniprot_ID: uniprot\n",
        "    descripcion: description\n",
        "    claseDiana: tdl\n",
        "    secuencia: seq\n",
        "\n",
        "    referenciaOMIM: mim {\n",
        "      OMIM_ID: mimid\n",
        "      nombre: term\n",
        "    }\n",
        "\n",
        "    ligandosConocidos: ligands {\n",
        "      nombre: name\n",
        "      ligando_ID: ligid\n",
        "    }\n",
        "\n",
        "    deLosCualesSonFarmacosAprobados: ligands(isdrug: true) {\n",
        "      nombre: name\n",
        "      ligando_ID: ligid\n",
        "    }\n",
        "\n",
        "    relacionProteinaProteina: ppis{\n",
        "      target {\n",
        "        nombre: name\n",
        "        proteina_ID: sym\n",
        "        secuencia: seq\n",
        "        claseDiana: tdl\n",
        "      }\n",
        "      propiedadesRelacion: props {\n",
        "        name\n",
        "        value\n",
        "      }\n",
        "    }\n",
        "\n",
        "    numeroDeViasPorFuente: pathwayCounts {\n",
        "      fuente: name\n",
        "      numVias: value\n",
        "    }\n",
        "\n",
        "    vias: pathways {\n",
        "      viaPharos_ID: pwid\n",
        "      nombre: name\n",
        "      fuente: type\n",
        "      fuente_ID: sourceID\n",
        "      url\n",
        "    }\n",
        "  }\n",
        "}\n",
        "\"\"\""
      ],
      "metadata": {
        "id": "8JdV98BdwX9b"
      },
      "execution_count": 5,
      "outputs": []
    },
    {
      "cell_type": "markdown",
      "source": [
        "# Hacer la petición a la API y extracción de datos"
      ],
      "metadata": {
        "id": "2oPFdoXswbps"
      }
    },
    {
      "cell_type": "code",
      "source": [
        "response = requests.post(graphql_url, json={\"query\": query})\n",
        "data = response.json()\n",
        "\n",
        "# Extraer los datos\n",
        "if \"data\" in data and \"target\" in data[\"data\"]:\n",
        "    dataIsfetched = True\n",
        "    target_data = data[\"data\"][\"target\"]\n",
        "\n",
        "    # Crear un DataFrame con información principal\n",
        "    df_info = pd.DataFrame([{key: target_data[key] for key in [\"nombre\", \"uniprot_ID\", \"descripcion\", \"claseDiana\", \"secuencia\"]}])\n",
        "\n",
        "    # Crear DataFrame de referencia OMIM\n",
        "    df_omim = pd.DataFrame(target_data.get(\"referenciaOMIM\", []))\n",
        "\n",
        "    # Crear DataFrame de ligandos conocidos\n",
        "    df_ligandos = pd.DataFrame(target_data.get(\"ligandosConocidos\", []))\n",
        "\n",
        "    df_ligandos['Selleckchem'] = df_ligandos['nombre'].apply(\n",
        "    lambda x: obtener_link_selleckchem(x) or 'No encontrado'\n",
        "    )\n",
        "\n",
        "    # Crear DataFrame de fármacos aprobados\n",
        "    df_farmacos = pd.DataFrame(target_data.get(\"deLosCualesSonFarmacosAprobados\", []))\n",
        "\n",
        "    df_farmacos['Selleckchem'] = df_farmacos['nombre'].apply(\n",
        "    lambda x: obtener_link_selleckchem(x) or 'No encontrado'\n",
        "    )\n",
        "\n",
        "    # Crear DataFrame de relaciones proteína-proteína con priorización\n",
        "    relaciones = []\n",
        "\n",
        "    # Ordenar y filtrar las relaciones\n",
        "    relaciones_raw = target_data.get(\"relacionProteinaProteina\", [])\n",
        "\n",
        "    # Definir prioridad de clases\n",
        "    prioridad_clases = {\n",
        "        \"Tclin\": 1,\n",
        "        \"Tchem\": 2,\n",
        "        \"Tbio\": 3,\n",
        "        \"Tdark\": 4\n",
        "    }\n",
        "\n",
        "    # Función para ordenar\n",
        "    def ordenar_por_clase(relacion):\n",
        "        clase = relacion.get(\"target\", {}).get(\"claseDiana\", \"\")\n",
        "        return prioridad_clases.get(clase, 5)  # 5 para clases desconocidas\n",
        "\n",
        "    # Ordenar y tomar top 10\n",
        "    relaciones_ordenadas = sorted(\n",
        "        relaciones_raw,\n",
        "        key=ordenar_por_clase\n",
        "    )[:10]\n",
        "\n",
        "    # Procesar solo las top 10\n",
        "    for rel in relaciones_ordenadas:\n",
        "        if \"target\" in rel and \"propiedadesRelacion\" in rel:\n",
        "            # Filtrar propiedades por relevancia (p_wrong, p_ni, p_int, novelty)\n",
        "            propiedades_filtradas = []\n",
        "            for prop in rel[\"propiedadesRelacion\"]:\n",
        "                if prop[\"name\"] in [\"p_wrong\", \"p_ni\"]:\n",
        "                # if prop[\"name\"] in [\"p_wrong\", \"p_ni\", \"p_int\", \"novelty\"] Para sacar los cuatro tipos\n",
        "                    propiedades_filtradas.append(prop)\n",
        "\n",
        "            # Ordenar propiedades por prioridad\n",
        "            prioridad_propiedades = {\n",
        "                \"p_wrong\": 1,\n",
        "                \"p_ni\": 2\n",
        "               # \"p_int\": 3,\n",
        "               # \"novelty\": 4\n",
        "            }\n",
        "            propiedades_ordenadas = sorted(\n",
        "                propiedades_filtradas,\n",
        "                key=lambda x: prioridad_propiedades.get(x[\"name\"], 5)\n",
        "            )\n",
        "\n",
        "            # Agregar solo las propiedades ordenadas\n",
        "            for prop in propiedades_ordenadas:\n",
        "                relaciones.append({\n",
        "                    \"Proteina\": rel[\"target\"][\"nombre\"],\n",
        "                    \"Proteina_ID\": rel[\"target\"][\"proteina_ID\"],\n",
        "                    \"Clase Diana\": rel[\"target\"][\"claseDiana\"],\n",
        "                    \"Propiedad\": prop[\"name\"],\n",
        "                    \"Valor\": prop[\"value\"]\n",
        "                })\n",
        "\n",
        "    df_relaciones = pd.DataFrame(relaciones)\n",
        "\n",
        "    #Crear Dataframe de numeroDeViasPorFuente\n",
        "    df_numero_vias_por_fuente = pd.DataFrame(target_data.get(\"numeroDeViasPorFuente\", []))\n",
        "\n",
        "    # Crear DataFrame de vías\n",
        "    df_vias = pd.DataFrame(target_data.get(\"vias\", []))\n",
        "\n",
        "else:\n",
        "    dataIsfetched = False"
      ],
      "metadata": {
        "id": "YRxEWu89weP5",
        "colab": {
          "base_uri": "https://localhost:8080/",
          "height": 1000
        },
        "outputId": "a4f9be69-5b1c-4b3d-9f85-1842f3ca86d6"
      },
      "execution_count": 6,
      "outputs": [
        {
          "output_type": "display_data",
          "data": {
            "text/plain": [
              "<IPython.core.display.HTML object>"
            ],
            "text/html": [
              "\n",
              "            <div class=\"spinner-container\">\n",
              "                <div class=\"spinner\" id=\"a05e1532-f6a6-490a-8994-70a9ba7f033f-circle\"></div>\n",
              "                <div class=\"spinner-text\" id=\"a05e1532-f6a6-490a-8994-70a9ba7f033f-text\">Initializing Chromedriver</div>\n",
              "            </div>\n",
              "            <style>\n",
              "                @keyframes spin {\n",
              "                    from { transform: rotate(0deg); }\n",
              "                    to { transform: rotate(360deg); }\n",
              "                }\n",
              "\n",
              "                .spinner-container {\n",
              "                    display: flex;\n",
              "                    align-items: center;\n",
              "                    margin-bottom: 3px;\n",
              "                }\n",
              "\n",
              "                .spinner {\n",
              "                    border: 3px solid rgba(0, 0, 0, 0.1);\n",
              "                    border-left-color: lightblue;\n",
              "                    border-radius: 50%;\n",
              "                    width: 12px;\n",
              "                    height: 12px;\n",
              "                    animation: spin 1s linear infinite;\n",
              "                }\n",
              "\n",
              "                .spinner-text {\n",
              "                    padding-left: 6px;\n",
              "                }\n",
              "            </style>\n",
              "        "
            ]
          },
          "metadata": {}
        },
        {
          "output_type": "display_data",
          "data": {
            "text/plain": [
              "<IPython.core.display.Javascript object>"
            ],
            "application/javascript": [
              "\n",
              "            const element = document.getElementById(\"a05e1532-f6a6-490a-8994-70a9ba7f033f-circle\");\n",
              "            element.style.border = \"3px solid limegreen\";\n",
              "            element.style.animation = \"none\";\n",
              "\n",
              "            const text = document.getElementById(\"a05e1532-f6a6-490a-8994-70a9ba7f033f-text\");\n",
              "            text.innerText = \"Initialized Chromedriver\";\n",
              "        "
            ]
          },
          "metadata": {}
        },
        {
          "output_type": "display_data",
          "data": {
            "text/plain": [
              "<IPython.core.display.HTML object>"
            ],
            "text/html": [
              "\n",
              "            <div class=\"spinner-container\">\n",
              "                <div class=\"spinner\" id=\"eee6d59e-c183-41ad-9d4b-9e434a3dc94a-circle\"></div>\n",
              "                <div class=\"spinner-text\" id=\"eee6d59e-c183-41ad-9d4b-9e434a3dc94a-text\">Initializing Chromedriver</div>\n",
              "            </div>\n",
              "            <style>\n",
              "                @keyframes spin {\n",
              "                    from { transform: rotate(0deg); }\n",
              "                    to { transform: rotate(360deg); }\n",
              "                }\n",
              "\n",
              "                .spinner-container {\n",
              "                    display: flex;\n",
              "                    align-items: center;\n",
              "                    margin-bottom: 3px;\n",
              "                }\n",
              "\n",
              "                .spinner {\n",
              "                    border: 3px solid rgba(0, 0, 0, 0.1);\n",
              "                    border-left-color: lightblue;\n",
              "                    border-radius: 50%;\n",
              "                    width: 12px;\n",
              "                    height: 12px;\n",
              "                    animation: spin 1s linear infinite;\n",
              "                }\n",
              "\n",
              "                .spinner-text {\n",
              "                    padding-left: 6px;\n",
              "                }\n",
              "            </style>\n",
              "        "
            ]
          },
          "metadata": {}
        },
        {
          "output_type": "display_data",
          "data": {
            "text/plain": [
              "<IPython.core.display.Javascript object>"
            ],
            "application/javascript": [
              "\n",
              "            const element = document.getElementById(\"eee6d59e-c183-41ad-9d4b-9e434a3dc94a-circle\");\n",
              "            element.style.border = \"3px solid limegreen\";\n",
              "            element.style.animation = \"none\";\n",
              "\n",
              "            const text = document.getElementById(\"eee6d59e-c183-41ad-9d4b-9e434a3dc94a-text\");\n",
              "            text.innerText = \"Initialized Chromedriver\";\n",
              "        "
            ]
          },
          "metadata": {}
        },
        {
          "output_type": "display_data",
          "data": {
            "text/plain": [
              "<IPython.core.display.HTML object>"
            ],
            "text/html": [
              "\n",
              "            <div class=\"spinner-container\">\n",
              "                <div class=\"spinner\" id=\"7d45e3e4-85a5-4478-a7c8-91b37abaa071-circle\"></div>\n",
              "                <div class=\"spinner-text\" id=\"7d45e3e4-85a5-4478-a7c8-91b37abaa071-text\">Initializing Chromedriver</div>\n",
              "            </div>\n",
              "            <style>\n",
              "                @keyframes spin {\n",
              "                    from { transform: rotate(0deg); }\n",
              "                    to { transform: rotate(360deg); }\n",
              "                }\n",
              "\n",
              "                .spinner-container {\n",
              "                    display: flex;\n",
              "                    align-items: center;\n",
              "                    margin-bottom: 3px;\n",
              "                }\n",
              "\n",
              "                .spinner {\n",
              "                    border: 3px solid rgba(0, 0, 0, 0.1);\n",
              "                    border-left-color: lightblue;\n",
              "                    border-radius: 50%;\n",
              "                    width: 12px;\n",
              "                    height: 12px;\n",
              "                    animation: spin 1s linear infinite;\n",
              "                }\n",
              "\n",
              "                .spinner-text {\n",
              "                    padding-left: 6px;\n",
              "                }\n",
              "            </style>\n",
              "        "
            ]
          },
          "metadata": {}
        },
        {
          "output_type": "display_data",
          "data": {
            "text/plain": [
              "<IPython.core.display.Javascript object>"
            ],
            "application/javascript": [
              "\n",
              "            const element = document.getElementById(\"7d45e3e4-85a5-4478-a7c8-91b37abaa071-circle\");\n",
              "            element.style.border = \"3px solid limegreen\";\n",
              "            element.style.animation = \"none\";\n",
              "\n",
              "            const text = document.getElementById(\"7d45e3e4-85a5-4478-a7c8-91b37abaa071-text\");\n",
              "            text.innerText = \"Initialized Chromedriver\";\n",
              "        "
            ]
          },
          "metadata": {}
        },
        {
          "output_type": "display_data",
          "data": {
            "text/plain": [
              "<IPython.core.display.HTML object>"
            ],
            "text/html": [
              "\n",
              "            <div class=\"spinner-container\">\n",
              "                <div class=\"spinner\" id=\"452c7a8c-7169-4b40-953c-02b79df59a9e-circle\"></div>\n",
              "                <div class=\"spinner-text\" id=\"452c7a8c-7169-4b40-953c-02b79df59a9e-text\">Initializing Chromedriver</div>\n",
              "            </div>\n",
              "            <style>\n",
              "                @keyframes spin {\n",
              "                    from { transform: rotate(0deg); }\n",
              "                    to { transform: rotate(360deg); }\n",
              "                }\n",
              "\n",
              "                .spinner-container {\n",
              "                    display: flex;\n",
              "                    align-items: center;\n",
              "                    margin-bottom: 3px;\n",
              "                }\n",
              "\n",
              "                .spinner {\n",
              "                    border: 3px solid rgba(0, 0, 0, 0.1);\n",
              "                    border-left-color: lightblue;\n",
              "                    border-radius: 50%;\n",
              "                    width: 12px;\n",
              "                    height: 12px;\n",
              "                    animation: spin 1s linear infinite;\n",
              "                }\n",
              "\n",
              "                .spinner-text {\n",
              "                    padding-left: 6px;\n",
              "                }\n",
              "            </style>\n",
              "        "
            ]
          },
          "metadata": {}
        },
        {
          "output_type": "display_data",
          "data": {
            "text/plain": [
              "<IPython.core.display.Javascript object>"
            ],
            "application/javascript": [
              "\n",
              "            const element = document.getElementById(\"452c7a8c-7169-4b40-953c-02b79df59a9e-circle\");\n",
              "            element.style.border = \"3px solid limegreen\";\n",
              "            element.style.animation = \"none\";\n",
              "\n",
              "            const text = document.getElementById(\"452c7a8c-7169-4b40-953c-02b79df59a9e-text\");\n",
              "            text.innerText = \"Initialized Chromedriver\";\n",
              "        "
            ]
          },
          "metadata": {}
        },
        {
          "output_type": "display_data",
          "data": {
            "text/plain": [
              "<IPython.core.display.HTML object>"
            ],
            "text/html": [
              "\n",
              "            <div class=\"spinner-container\">\n",
              "                <div class=\"spinner\" id=\"ddc27454-cc7c-4014-824f-cd885ef5b9fc-circle\"></div>\n",
              "                <div class=\"spinner-text\" id=\"ddc27454-cc7c-4014-824f-cd885ef5b9fc-text\">Initializing Chromedriver</div>\n",
              "            </div>\n",
              "            <style>\n",
              "                @keyframes spin {\n",
              "                    from { transform: rotate(0deg); }\n",
              "                    to { transform: rotate(360deg); }\n",
              "                }\n",
              "\n",
              "                .spinner-container {\n",
              "                    display: flex;\n",
              "                    align-items: center;\n",
              "                    margin-bottom: 3px;\n",
              "                }\n",
              "\n",
              "                .spinner {\n",
              "                    border: 3px solid rgba(0, 0, 0, 0.1);\n",
              "                    border-left-color: lightblue;\n",
              "                    border-radius: 50%;\n",
              "                    width: 12px;\n",
              "                    height: 12px;\n",
              "                    animation: spin 1s linear infinite;\n",
              "                }\n",
              "\n",
              "                .spinner-text {\n",
              "                    padding-left: 6px;\n",
              "                }\n",
              "            </style>\n",
              "        "
            ]
          },
          "metadata": {}
        },
        {
          "output_type": "display_data",
          "data": {
            "text/plain": [
              "<IPython.core.display.Javascript object>"
            ],
            "application/javascript": [
              "\n",
              "            const element = document.getElementById(\"ddc27454-cc7c-4014-824f-cd885ef5b9fc-circle\");\n",
              "            element.style.border = \"3px solid limegreen\";\n",
              "            element.style.animation = \"none\";\n",
              "\n",
              "            const text = document.getElementById(\"ddc27454-cc7c-4014-824f-cd885ef5b9fc-text\");\n",
              "            text.innerText = \"Initialized Chromedriver\";\n",
              "        "
            ]
          },
          "metadata": {}
        },
        {
          "output_type": "stream",
          "name": "stdout",
          "text": [
            "❌ Error: Message: \n",
            "Stacktrace:\n",
            "#0 0x5c9b61d0de6a <unknown>\n",
            "#1 0x5c9b617bf640 <unknown>\n",
            "#2 0x5c9b61810b5a <unknown>\n",
            "#3 0x5c9b61810d51 <unknown>\n",
            "#4 0x5c9b6185f344 <unknown>\n",
            "#5 0x5c9b6183677d <unknown>\n",
            "#6 0x5c9b6185c7b5 <unknown>\n",
            "#7 0x5c9b61836523 <unknown>\n",
            "#8 0x5c9b61802ef3 <unknown>\n",
            "#9 0x5c9b61803b51 <unknown>\n",
            "#10 0x5c9b61cd2d2b <unknown>\n",
            "#11 0x5c9b61cd6c01 <unknown>\n",
            "#12 0x5c9b61cba512 <unknown>\n",
            "#13 0x5c9b61cd7774 <unknown>\n",
            "#14 0x5c9b61c9e90f <unknown>\n",
            "#15 0x5c9b61cfbfb8 <unknown>\n",
            "#16 0x5c9b61cfc196 <unknown>\n",
            "#17 0x5c9b61d0ccb6 <unknown>\n",
            "#18 0x7dfafa060ac3 <unknown>\n",
            "\n"
          ]
        },
        {
          "output_type": "display_data",
          "data": {
            "text/plain": [
              "<IPython.core.display.HTML object>"
            ],
            "text/html": [
              "\n",
              "            <div class=\"spinner-container\">\n",
              "                <div class=\"spinner\" id=\"3da307a1-0fb8-4974-83d0-7f12f6c48c5c-circle\"></div>\n",
              "                <div class=\"spinner-text\" id=\"3da307a1-0fb8-4974-83d0-7f12f6c48c5c-text\">Initializing Chromedriver</div>\n",
              "            </div>\n",
              "            <style>\n",
              "                @keyframes spin {\n",
              "                    from { transform: rotate(0deg); }\n",
              "                    to { transform: rotate(360deg); }\n",
              "                }\n",
              "\n",
              "                .spinner-container {\n",
              "                    display: flex;\n",
              "                    align-items: center;\n",
              "                    margin-bottom: 3px;\n",
              "                }\n",
              "\n",
              "                .spinner {\n",
              "                    border: 3px solid rgba(0, 0, 0, 0.1);\n",
              "                    border-left-color: lightblue;\n",
              "                    border-radius: 50%;\n",
              "                    width: 12px;\n",
              "                    height: 12px;\n",
              "                    animation: spin 1s linear infinite;\n",
              "                }\n",
              "\n",
              "                .spinner-text {\n",
              "                    padding-left: 6px;\n",
              "                }\n",
              "            </style>\n",
              "        "
            ]
          },
          "metadata": {}
        },
        {
          "output_type": "display_data",
          "data": {
            "text/plain": [
              "<IPython.core.display.Javascript object>"
            ],
            "application/javascript": [
              "\n",
              "            const element = document.getElementById(\"3da307a1-0fb8-4974-83d0-7f12f6c48c5c-circle\");\n",
              "            element.style.border = \"3px solid limegreen\";\n",
              "            element.style.animation = \"none\";\n",
              "\n",
              "            const text = document.getElementById(\"3da307a1-0fb8-4974-83d0-7f12f6c48c5c-text\");\n",
              "            text.innerText = \"Initialized Chromedriver\";\n",
              "        "
            ]
          },
          "metadata": {}
        },
        {
          "output_type": "display_data",
          "data": {
            "text/plain": [
              "<IPython.core.display.HTML object>"
            ],
            "text/html": [
              "\n",
              "            <div class=\"spinner-container\">\n",
              "                <div class=\"spinner\" id=\"7e88130b-dcf4-477c-85e8-f13c1844d750-circle\"></div>\n",
              "                <div class=\"spinner-text\" id=\"7e88130b-dcf4-477c-85e8-f13c1844d750-text\">Initializing Chromedriver</div>\n",
              "            </div>\n",
              "            <style>\n",
              "                @keyframes spin {\n",
              "                    from { transform: rotate(0deg); }\n",
              "                    to { transform: rotate(360deg); }\n",
              "                }\n",
              "\n",
              "                .spinner-container {\n",
              "                    display: flex;\n",
              "                    align-items: center;\n",
              "                    margin-bottom: 3px;\n",
              "                }\n",
              "\n",
              "                .spinner {\n",
              "                    border: 3px solid rgba(0, 0, 0, 0.1);\n",
              "                    border-left-color: lightblue;\n",
              "                    border-radius: 50%;\n",
              "                    width: 12px;\n",
              "                    height: 12px;\n",
              "                    animation: spin 1s linear infinite;\n",
              "                }\n",
              "\n",
              "                .spinner-text {\n",
              "                    padding-left: 6px;\n",
              "                }\n",
              "            </style>\n",
              "        "
            ]
          },
          "metadata": {}
        },
        {
          "output_type": "display_data",
          "data": {
            "text/plain": [
              "<IPython.core.display.Javascript object>"
            ],
            "application/javascript": [
              "\n",
              "            const element = document.getElementById(\"7e88130b-dcf4-477c-85e8-f13c1844d750-circle\");\n",
              "            element.style.border = \"3px solid limegreen\";\n",
              "            element.style.animation = \"none\";\n",
              "\n",
              "            const text = document.getElementById(\"7e88130b-dcf4-477c-85e8-f13c1844d750-text\");\n",
              "            text.innerText = \"Initialized Chromedriver\";\n",
              "        "
            ]
          },
          "metadata": {}
        },
        {
          "output_type": "stream",
          "name": "stdout",
          "text": [
            "❌ Error: Message: \n",
            "Stacktrace:\n",
            "#0 0x59c145201e6a <unknown>\n",
            "#1 0x59c144cb3640 <unknown>\n",
            "#2 0x59c144d04b5a <unknown>\n",
            "#3 0x59c144d04d51 <unknown>\n",
            "#4 0x59c144d53344 <unknown>\n",
            "#5 0x59c144d2a77d <unknown>\n",
            "#6 0x59c144d507b5 <unknown>\n",
            "#7 0x59c144d2a523 <unknown>\n",
            "#8 0x59c144cf6ef3 <unknown>\n",
            "#9 0x59c144cf7b51 <unknown>\n",
            "#10 0x59c1451c6d2b <unknown>\n",
            "#11 0x59c1451cac01 <unknown>\n",
            "#12 0x59c1451ae512 <unknown>\n",
            "#13 0x59c1451cb774 <unknown>\n",
            "#14 0x59c14519290f <unknown>\n",
            "#15 0x59c1451effb8 <unknown>\n",
            "#16 0x59c1451f0196 <unknown>\n",
            "#17 0x59c145200cb6 <unknown>\n",
            "#18 0x7c7a474faac3 <unknown>\n",
            "\n"
          ]
        },
        {
          "output_type": "display_data",
          "data": {
            "text/plain": [
              "<IPython.core.display.HTML object>"
            ],
            "text/html": [
              "\n",
              "            <div class=\"spinner-container\">\n",
              "                <div class=\"spinner\" id=\"c7631730-506b-46d7-bd9e-c418bf9096fc-circle\"></div>\n",
              "                <div class=\"spinner-text\" id=\"c7631730-506b-46d7-bd9e-c418bf9096fc-text\">Initializing Chromedriver</div>\n",
              "            </div>\n",
              "            <style>\n",
              "                @keyframes spin {\n",
              "                    from { transform: rotate(0deg); }\n",
              "                    to { transform: rotate(360deg); }\n",
              "                }\n",
              "\n",
              "                .spinner-container {\n",
              "                    display: flex;\n",
              "                    align-items: center;\n",
              "                    margin-bottom: 3px;\n",
              "                }\n",
              "\n",
              "                .spinner {\n",
              "                    border: 3px solid rgba(0, 0, 0, 0.1);\n",
              "                    border-left-color: lightblue;\n",
              "                    border-radius: 50%;\n",
              "                    width: 12px;\n",
              "                    height: 12px;\n",
              "                    animation: spin 1s linear infinite;\n",
              "                }\n",
              "\n",
              "                .spinner-text {\n",
              "                    padding-left: 6px;\n",
              "                }\n",
              "            </style>\n",
              "        "
            ]
          },
          "metadata": {}
        },
        {
          "output_type": "display_data",
          "data": {
            "text/plain": [
              "<IPython.core.display.Javascript object>"
            ],
            "application/javascript": [
              "\n",
              "            const element = document.getElementById(\"c7631730-506b-46d7-bd9e-c418bf9096fc-circle\");\n",
              "            element.style.border = \"3px solid limegreen\";\n",
              "            element.style.animation = \"none\";\n",
              "\n",
              "            const text = document.getElementById(\"c7631730-506b-46d7-bd9e-c418bf9096fc-text\");\n",
              "            text.innerText = \"Initialized Chromedriver\";\n",
              "        "
            ]
          },
          "metadata": {}
        },
        {
          "output_type": "display_data",
          "data": {
            "text/plain": [
              "<IPython.core.display.HTML object>"
            ],
            "text/html": [
              "\n",
              "            <div class=\"spinner-container\">\n",
              "                <div class=\"spinner\" id=\"04d486b2-a25b-4f43-8887-4fe68cc2c988-circle\"></div>\n",
              "                <div class=\"spinner-text\" id=\"04d486b2-a25b-4f43-8887-4fe68cc2c988-text\">Initializing Chromedriver</div>\n",
              "            </div>\n",
              "            <style>\n",
              "                @keyframes spin {\n",
              "                    from { transform: rotate(0deg); }\n",
              "                    to { transform: rotate(360deg); }\n",
              "                }\n",
              "\n",
              "                .spinner-container {\n",
              "                    display: flex;\n",
              "                    align-items: center;\n",
              "                    margin-bottom: 3px;\n",
              "                }\n",
              "\n",
              "                .spinner {\n",
              "                    border: 3px solid rgba(0, 0, 0, 0.1);\n",
              "                    border-left-color: lightblue;\n",
              "                    border-radius: 50%;\n",
              "                    width: 12px;\n",
              "                    height: 12px;\n",
              "                    animation: spin 1s linear infinite;\n",
              "                }\n",
              "\n",
              "                .spinner-text {\n",
              "                    padding-left: 6px;\n",
              "                }\n",
              "            </style>\n",
              "        "
            ]
          },
          "metadata": {}
        },
        {
          "output_type": "display_data",
          "data": {
            "text/plain": [
              "<IPython.core.display.Javascript object>"
            ],
            "application/javascript": [
              "\n",
              "            const element = document.getElementById(\"04d486b2-a25b-4f43-8887-4fe68cc2c988-circle\");\n",
              "            element.style.border = \"3px solid limegreen\";\n",
              "            element.style.animation = \"none\";\n",
              "\n",
              "            const text = document.getElementById(\"04d486b2-a25b-4f43-8887-4fe68cc2c988-text\");\n",
              "            text.innerText = \"Initialized Chromedriver\";\n",
              "        "
            ]
          },
          "metadata": {}
        },
        {
          "output_type": "display_data",
          "data": {
            "text/plain": [
              "<IPython.core.display.HTML object>"
            ],
            "text/html": [
              "\n",
              "            <div class=\"spinner-container\">\n",
              "                <div class=\"spinner\" id=\"83d65874-d9b4-47c8-9224-762717e31cd5-circle\"></div>\n",
              "                <div class=\"spinner-text\" id=\"83d65874-d9b4-47c8-9224-762717e31cd5-text\">Initializing Chromedriver</div>\n",
              "            </div>\n",
              "            <style>\n",
              "                @keyframes spin {\n",
              "                    from { transform: rotate(0deg); }\n",
              "                    to { transform: rotate(360deg); }\n",
              "                }\n",
              "\n",
              "                .spinner-container {\n",
              "                    display: flex;\n",
              "                    align-items: center;\n",
              "                    margin-bottom: 3px;\n",
              "                }\n",
              "\n",
              "                .spinner {\n",
              "                    border: 3px solid rgba(0, 0, 0, 0.1);\n",
              "                    border-left-color: lightblue;\n",
              "                    border-radius: 50%;\n",
              "                    width: 12px;\n",
              "                    height: 12px;\n",
              "                    animation: spin 1s linear infinite;\n",
              "                }\n",
              "\n",
              "                .spinner-text {\n",
              "                    padding-left: 6px;\n",
              "                }\n",
              "            </style>\n",
              "        "
            ]
          },
          "metadata": {}
        },
        {
          "output_type": "display_data",
          "data": {
            "text/plain": [
              "<IPython.core.display.Javascript object>"
            ],
            "application/javascript": [
              "\n",
              "            const element = document.getElementById(\"83d65874-d9b4-47c8-9224-762717e31cd5-circle\");\n",
              "            element.style.border = \"3px solid limegreen\";\n",
              "            element.style.animation = \"none\";\n",
              "\n",
              "            const text = document.getElementById(\"83d65874-d9b4-47c8-9224-762717e31cd5-text\");\n",
              "            text.innerText = \"Initialized Chromedriver\";\n",
              "        "
            ]
          },
          "metadata": {}
        },
        {
          "output_type": "stream",
          "name": "stdout",
          "text": [
            "❌ Error: Message: \n",
            "Stacktrace:\n",
            "#0 0x5c93f0dd0e6a <unknown>\n",
            "#1 0x5c93f0882640 <unknown>\n",
            "#2 0x5c93f08d3b5a <unknown>\n",
            "#3 0x5c93f08d3d51 <unknown>\n",
            "#4 0x5c93f0922344 <unknown>\n",
            "#5 0x5c93f08f977d <unknown>\n",
            "#6 0x5c93f091f7b5 <unknown>\n",
            "#7 0x5c93f08f9523 <unknown>\n",
            "#8 0x5c93f08c5ef3 <unknown>\n",
            "#9 0x5c93f08c6b51 <unknown>\n",
            "#10 0x5c93f0d95d2b <unknown>\n",
            "#11 0x5c93f0d99c01 <unknown>\n",
            "#12 0x5c93f0d7d512 <unknown>\n",
            "#13 0x5c93f0d9a774 <unknown>\n",
            "#14 0x5c93f0d6190f <unknown>\n",
            "#15 0x5c93f0dbefb8 <unknown>\n",
            "#16 0x5c93f0dbf196 <unknown>\n",
            "#17 0x5c93f0dcfcb6 <unknown>\n",
            "#18 0x7ff3e02c4ac3 <unknown>\n",
            "\n"
          ]
        },
        {
          "output_type": "display_data",
          "data": {
            "text/plain": [
              "<IPython.core.display.HTML object>"
            ],
            "text/html": [
              "\n",
              "            <div class=\"spinner-container\">\n",
              "                <div class=\"spinner\" id=\"85a35c10-8bb7-4cc8-97eb-82fcf20e8724-circle\"></div>\n",
              "                <div class=\"spinner-text\" id=\"85a35c10-8bb7-4cc8-97eb-82fcf20e8724-text\">Initializing Chromedriver</div>\n",
              "            </div>\n",
              "            <style>\n",
              "                @keyframes spin {\n",
              "                    from { transform: rotate(0deg); }\n",
              "                    to { transform: rotate(360deg); }\n",
              "                }\n",
              "\n",
              "                .spinner-container {\n",
              "                    display: flex;\n",
              "                    align-items: center;\n",
              "                    margin-bottom: 3px;\n",
              "                }\n",
              "\n",
              "                .spinner {\n",
              "                    border: 3px solid rgba(0, 0, 0, 0.1);\n",
              "                    border-left-color: lightblue;\n",
              "                    border-radius: 50%;\n",
              "                    width: 12px;\n",
              "                    height: 12px;\n",
              "                    animation: spin 1s linear infinite;\n",
              "                }\n",
              "\n",
              "                .spinner-text {\n",
              "                    padding-left: 6px;\n",
              "                }\n",
              "            </style>\n",
              "        "
            ]
          },
          "metadata": {}
        },
        {
          "output_type": "display_data",
          "data": {
            "text/plain": [
              "<IPython.core.display.Javascript object>"
            ],
            "application/javascript": [
              "\n",
              "            const element = document.getElementById(\"85a35c10-8bb7-4cc8-97eb-82fcf20e8724-circle\");\n",
              "            element.style.border = \"3px solid limegreen\";\n",
              "            element.style.animation = \"none\";\n",
              "\n",
              "            const text = document.getElementById(\"85a35c10-8bb7-4cc8-97eb-82fcf20e8724-text\");\n",
              "            text.innerText = \"Initialized Chromedriver\";\n",
              "        "
            ]
          },
          "metadata": {}
        },
        {
          "output_type": "display_data",
          "data": {
            "text/plain": [
              "<IPython.core.display.HTML object>"
            ],
            "text/html": [
              "\n",
              "            <div class=\"spinner-container\">\n",
              "                <div class=\"spinner\" id=\"b2e917ee-1423-4fc9-a21d-6fc1f547d5c6-circle\"></div>\n",
              "                <div class=\"spinner-text\" id=\"b2e917ee-1423-4fc9-a21d-6fc1f547d5c6-text\">Initializing Chromedriver</div>\n",
              "            </div>\n",
              "            <style>\n",
              "                @keyframes spin {\n",
              "                    from { transform: rotate(0deg); }\n",
              "                    to { transform: rotate(360deg); }\n",
              "                }\n",
              "\n",
              "                .spinner-container {\n",
              "                    display: flex;\n",
              "                    align-items: center;\n",
              "                    margin-bottom: 3px;\n",
              "                }\n",
              "\n",
              "                .spinner {\n",
              "                    border: 3px solid rgba(0, 0, 0, 0.1);\n",
              "                    border-left-color: lightblue;\n",
              "                    border-radius: 50%;\n",
              "                    width: 12px;\n",
              "                    height: 12px;\n",
              "                    animation: spin 1s linear infinite;\n",
              "                }\n",
              "\n",
              "                .spinner-text {\n",
              "                    padding-left: 6px;\n",
              "                }\n",
              "            </style>\n",
              "        "
            ]
          },
          "metadata": {}
        },
        {
          "output_type": "display_data",
          "data": {
            "text/plain": [
              "<IPython.core.display.Javascript object>"
            ],
            "application/javascript": [
              "\n",
              "            const element = document.getElementById(\"b2e917ee-1423-4fc9-a21d-6fc1f547d5c6-circle\");\n",
              "            element.style.border = \"3px solid limegreen\";\n",
              "            element.style.animation = \"none\";\n",
              "\n",
              "            const text = document.getElementById(\"b2e917ee-1423-4fc9-a21d-6fc1f547d5c6-text\");\n",
              "            text.innerText = \"Initialized Chromedriver\";\n",
              "        "
            ]
          },
          "metadata": {}
        },
        {
          "output_type": "display_data",
          "data": {
            "text/plain": [
              "<IPython.core.display.HTML object>"
            ],
            "text/html": [
              "\n",
              "            <div class=\"spinner-container\">\n",
              "                <div class=\"spinner\" id=\"352e5348-df34-41f1-a854-e3b5327309a5-circle\"></div>\n",
              "                <div class=\"spinner-text\" id=\"352e5348-df34-41f1-a854-e3b5327309a5-text\">Initializing Chromedriver</div>\n",
              "            </div>\n",
              "            <style>\n",
              "                @keyframes spin {\n",
              "                    from { transform: rotate(0deg); }\n",
              "                    to { transform: rotate(360deg); }\n",
              "                }\n",
              "\n",
              "                .spinner-container {\n",
              "                    display: flex;\n",
              "                    align-items: center;\n",
              "                    margin-bottom: 3px;\n",
              "                }\n",
              "\n",
              "                .spinner {\n",
              "                    border: 3px solid rgba(0, 0, 0, 0.1);\n",
              "                    border-left-color: lightblue;\n",
              "                    border-radius: 50%;\n",
              "                    width: 12px;\n",
              "                    height: 12px;\n",
              "                    animation: spin 1s linear infinite;\n",
              "                }\n",
              "\n",
              "                .spinner-text {\n",
              "                    padding-left: 6px;\n",
              "                }\n",
              "            </style>\n",
              "        "
            ]
          },
          "metadata": {}
        },
        {
          "output_type": "display_data",
          "data": {
            "text/plain": [
              "<IPython.core.display.Javascript object>"
            ],
            "application/javascript": [
              "\n",
              "            const element = document.getElementById(\"352e5348-df34-41f1-a854-e3b5327309a5-circle\");\n",
              "            element.style.border = \"3px solid limegreen\";\n",
              "            element.style.animation = \"none\";\n",
              "\n",
              "            const text = document.getElementById(\"352e5348-df34-41f1-a854-e3b5327309a5-text\");\n",
              "            text.innerText = \"Initialized Chromedriver\";\n",
              "        "
            ]
          },
          "metadata": {}
        },
        {
          "output_type": "display_data",
          "data": {
            "text/plain": [
              "<IPython.core.display.HTML object>"
            ],
            "text/html": [
              "\n",
              "            <div class=\"spinner-container\">\n",
              "                <div class=\"spinner\" id=\"af3f8e41-4c6e-40fb-bffe-3a9cdb0900fc-circle\"></div>\n",
              "                <div class=\"spinner-text\" id=\"af3f8e41-4c6e-40fb-bffe-3a9cdb0900fc-text\">Initializing Chromedriver</div>\n",
              "            </div>\n",
              "            <style>\n",
              "                @keyframes spin {\n",
              "                    from { transform: rotate(0deg); }\n",
              "                    to { transform: rotate(360deg); }\n",
              "                }\n",
              "\n",
              "                .spinner-container {\n",
              "                    display: flex;\n",
              "                    align-items: center;\n",
              "                    margin-bottom: 3px;\n",
              "                }\n",
              "\n",
              "                .spinner {\n",
              "                    border: 3px solid rgba(0, 0, 0, 0.1);\n",
              "                    border-left-color: lightblue;\n",
              "                    border-radius: 50%;\n",
              "                    width: 12px;\n",
              "                    height: 12px;\n",
              "                    animation: spin 1s linear infinite;\n",
              "                }\n",
              "\n",
              "                .spinner-text {\n",
              "                    padding-left: 6px;\n",
              "                }\n",
              "            </style>\n",
              "        "
            ]
          },
          "metadata": {}
        },
        {
          "output_type": "display_data",
          "data": {
            "text/plain": [
              "<IPython.core.display.Javascript object>"
            ],
            "application/javascript": [
              "\n",
              "            const element = document.getElementById(\"af3f8e41-4c6e-40fb-bffe-3a9cdb0900fc-circle\");\n",
              "            element.style.border = \"3px solid limegreen\";\n",
              "            element.style.animation = \"none\";\n",
              "\n",
              "            const text = document.getElementById(\"af3f8e41-4c6e-40fb-bffe-3a9cdb0900fc-text\");\n",
              "            text.innerText = \"Initialized Chromedriver\";\n",
              "        "
            ]
          },
          "metadata": {}
        },
        {
          "output_type": "display_data",
          "data": {
            "text/plain": [
              "<IPython.core.display.HTML object>"
            ],
            "text/html": [
              "\n",
              "            <div class=\"spinner-container\">\n",
              "                <div class=\"spinner\" id=\"46d9aa49-5723-42f5-9c42-93dd73cd9917-circle\"></div>\n",
              "                <div class=\"spinner-text\" id=\"46d9aa49-5723-42f5-9c42-93dd73cd9917-text\">Initializing Chromedriver</div>\n",
              "            </div>\n",
              "            <style>\n",
              "                @keyframes spin {\n",
              "                    from { transform: rotate(0deg); }\n",
              "                    to { transform: rotate(360deg); }\n",
              "                }\n",
              "\n",
              "                .spinner-container {\n",
              "                    display: flex;\n",
              "                    align-items: center;\n",
              "                    margin-bottom: 3px;\n",
              "                }\n",
              "\n",
              "                .spinner {\n",
              "                    border: 3px solid rgba(0, 0, 0, 0.1);\n",
              "                    border-left-color: lightblue;\n",
              "                    border-radius: 50%;\n",
              "                    width: 12px;\n",
              "                    height: 12px;\n",
              "                    animation: spin 1s linear infinite;\n",
              "                }\n",
              "\n",
              "                .spinner-text {\n",
              "                    padding-left: 6px;\n",
              "                }\n",
              "            </style>\n",
              "        "
            ]
          },
          "metadata": {}
        },
        {
          "output_type": "display_data",
          "data": {
            "text/plain": [
              "<IPython.core.display.Javascript object>"
            ],
            "application/javascript": [
              "\n",
              "            const element = document.getElementById(\"46d9aa49-5723-42f5-9c42-93dd73cd9917-circle\");\n",
              "            element.style.border = \"3px solid limegreen\";\n",
              "            element.style.animation = \"none\";\n",
              "\n",
              "            const text = document.getElementById(\"46d9aa49-5723-42f5-9c42-93dd73cd9917-text\");\n",
              "            text.innerText = \"Initialized Chromedriver\";\n",
              "        "
            ]
          },
          "metadata": {}
        },
        {
          "output_type": "display_data",
          "data": {
            "text/plain": [
              "<IPython.core.display.HTML object>"
            ],
            "text/html": [
              "\n",
              "            <div class=\"spinner-container\">\n",
              "                <div class=\"spinner\" id=\"386b5a96-8c79-459a-aa4c-8c48ba42ed6e-circle\"></div>\n",
              "                <div class=\"spinner-text\" id=\"386b5a96-8c79-459a-aa4c-8c48ba42ed6e-text\">Initializing Chromedriver</div>\n",
              "            </div>\n",
              "            <style>\n",
              "                @keyframes spin {\n",
              "                    from { transform: rotate(0deg); }\n",
              "                    to { transform: rotate(360deg); }\n",
              "                }\n",
              "\n",
              "                .spinner-container {\n",
              "                    display: flex;\n",
              "                    align-items: center;\n",
              "                    margin-bottom: 3px;\n",
              "                }\n",
              "\n",
              "                .spinner {\n",
              "                    border: 3px solid rgba(0, 0, 0, 0.1);\n",
              "                    border-left-color: lightblue;\n",
              "                    border-radius: 50%;\n",
              "                    width: 12px;\n",
              "                    height: 12px;\n",
              "                    animation: spin 1s linear infinite;\n",
              "                }\n",
              "\n",
              "                .spinner-text {\n",
              "                    padding-left: 6px;\n",
              "                }\n",
              "            </style>\n",
              "        "
            ]
          },
          "metadata": {}
        },
        {
          "output_type": "display_data",
          "data": {
            "text/plain": [
              "<IPython.core.display.Javascript object>"
            ],
            "application/javascript": [
              "\n",
              "            const element = document.getElementById(\"386b5a96-8c79-459a-aa4c-8c48ba42ed6e-circle\");\n",
              "            element.style.border = \"3px solid limegreen\";\n",
              "            element.style.animation = \"none\";\n",
              "\n",
              "            const text = document.getElementById(\"386b5a96-8c79-459a-aa4c-8c48ba42ed6e-text\");\n",
              "            text.innerText = \"Initialized Chromedriver\";\n",
              "        "
            ]
          },
          "metadata": {}
        },
        {
          "output_type": "display_data",
          "data": {
            "text/plain": [
              "<IPython.core.display.HTML object>"
            ],
            "text/html": [
              "\n",
              "            <div class=\"spinner-container\">\n",
              "                <div class=\"spinner\" id=\"ade7f0d9-9e57-4f0d-86b9-72b580667cda-circle\"></div>\n",
              "                <div class=\"spinner-text\" id=\"ade7f0d9-9e57-4f0d-86b9-72b580667cda-text\">Initializing Chromedriver</div>\n",
              "            </div>\n",
              "            <style>\n",
              "                @keyframes spin {\n",
              "                    from { transform: rotate(0deg); }\n",
              "                    to { transform: rotate(360deg); }\n",
              "                }\n",
              "\n",
              "                .spinner-container {\n",
              "                    display: flex;\n",
              "                    align-items: center;\n",
              "                    margin-bottom: 3px;\n",
              "                }\n",
              "\n",
              "                .spinner {\n",
              "                    border: 3px solid rgba(0, 0, 0, 0.1);\n",
              "                    border-left-color: lightblue;\n",
              "                    border-radius: 50%;\n",
              "                    width: 12px;\n",
              "                    height: 12px;\n",
              "                    animation: spin 1s linear infinite;\n",
              "                }\n",
              "\n",
              "                .spinner-text {\n",
              "                    padding-left: 6px;\n",
              "                }\n",
              "            </style>\n",
              "        "
            ]
          },
          "metadata": {}
        },
        {
          "output_type": "display_data",
          "data": {
            "text/plain": [
              "<IPython.core.display.Javascript object>"
            ],
            "application/javascript": [
              "\n",
              "            const element = document.getElementById(\"ade7f0d9-9e57-4f0d-86b9-72b580667cda-circle\");\n",
              "            element.style.border = \"3px solid limegreen\";\n",
              "            element.style.animation = \"none\";\n",
              "\n",
              "            const text = document.getElementById(\"ade7f0d9-9e57-4f0d-86b9-72b580667cda-text\");\n",
              "            text.innerText = \"Initialized Chromedriver\";\n",
              "        "
            ]
          },
          "metadata": {}
        },
        {
          "output_type": "display_data",
          "data": {
            "text/plain": [
              "<IPython.core.display.HTML object>"
            ],
            "text/html": [
              "\n",
              "            <div class=\"spinner-container\">\n",
              "                <div class=\"spinner\" id=\"6cc7845d-1a7d-441d-96c9-1545b38a1605-circle\"></div>\n",
              "                <div class=\"spinner-text\" id=\"6cc7845d-1a7d-441d-96c9-1545b38a1605-text\">Initializing Chromedriver</div>\n",
              "            </div>\n",
              "            <style>\n",
              "                @keyframes spin {\n",
              "                    from { transform: rotate(0deg); }\n",
              "                    to { transform: rotate(360deg); }\n",
              "                }\n",
              "\n",
              "                .spinner-container {\n",
              "                    display: flex;\n",
              "                    align-items: center;\n",
              "                    margin-bottom: 3px;\n",
              "                }\n",
              "\n",
              "                .spinner {\n",
              "                    border: 3px solid rgba(0, 0, 0, 0.1);\n",
              "                    border-left-color: lightblue;\n",
              "                    border-radius: 50%;\n",
              "                    width: 12px;\n",
              "                    height: 12px;\n",
              "                    animation: spin 1s linear infinite;\n",
              "                }\n",
              "\n",
              "                .spinner-text {\n",
              "                    padding-left: 6px;\n",
              "                }\n",
              "            </style>\n",
              "        "
            ]
          },
          "metadata": {}
        },
        {
          "output_type": "display_data",
          "data": {
            "text/plain": [
              "<IPython.core.display.Javascript object>"
            ],
            "application/javascript": [
              "\n",
              "            const element = document.getElementById(\"6cc7845d-1a7d-441d-96c9-1545b38a1605-circle\");\n",
              "            element.style.border = \"3px solid limegreen\";\n",
              "            element.style.animation = \"none\";\n",
              "\n",
              "            const text = document.getElementById(\"6cc7845d-1a7d-441d-96c9-1545b38a1605-text\");\n",
              "            text.innerText = \"Initialized Chromedriver\";\n",
              "        "
            ]
          },
          "metadata": {}
        },
        {
          "output_type": "display_data",
          "data": {
            "text/plain": [
              "<IPython.core.display.HTML object>"
            ],
            "text/html": [
              "\n",
              "            <div class=\"spinner-container\">\n",
              "                <div class=\"spinner\" id=\"6c2ac8fe-1f2d-4109-b14a-b65e73ba6711-circle\"></div>\n",
              "                <div class=\"spinner-text\" id=\"6c2ac8fe-1f2d-4109-b14a-b65e73ba6711-text\">Initializing Chromedriver</div>\n",
              "            </div>\n",
              "            <style>\n",
              "                @keyframes spin {\n",
              "                    from { transform: rotate(0deg); }\n",
              "                    to { transform: rotate(360deg); }\n",
              "                }\n",
              "\n",
              "                .spinner-container {\n",
              "                    display: flex;\n",
              "                    align-items: center;\n",
              "                    margin-bottom: 3px;\n",
              "                }\n",
              "\n",
              "                .spinner {\n",
              "                    border: 3px solid rgba(0, 0, 0, 0.1);\n",
              "                    border-left-color: lightblue;\n",
              "                    border-radius: 50%;\n",
              "                    width: 12px;\n",
              "                    height: 12px;\n",
              "                    animation: spin 1s linear infinite;\n",
              "                }\n",
              "\n",
              "                .spinner-text {\n",
              "                    padding-left: 6px;\n",
              "                }\n",
              "            </style>\n",
              "        "
            ]
          },
          "metadata": {}
        },
        {
          "output_type": "display_data",
          "data": {
            "text/plain": [
              "<IPython.core.display.Javascript object>"
            ],
            "application/javascript": [
              "\n",
              "            const element = document.getElementById(\"6c2ac8fe-1f2d-4109-b14a-b65e73ba6711-circle\");\n",
              "            element.style.border = \"3px solid limegreen\";\n",
              "            element.style.animation = \"none\";\n",
              "\n",
              "            const text = document.getElementById(\"6c2ac8fe-1f2d-4109-b14a-b65e73ba6711-text\");\n",
              "            text.innerText = \"Initialized Chromedriver\";\n",
              "        "
            ]
          },
          "metadata": {}
        },
        {
          "output_type": "display_data",
          "data": {
            "text/plain": [
              "<IPython.core.display.HTML object>"
            ],
            "text/html": [
              "\n",
              "            <div class=\"spinner-container\">\n",
              "                <div class=\"spinner\" id=\"20ed1633-a27e-4162-abc3-f36a765e4520-circle\"></div>\n",
              "                <div class=\"spinner-text\" id=\"20ed1633-a27e-4162-abc3-f36a765e4520-text\">Initializing Chromedriver</div>\n",
              "            </div>\n",
              "            <style>\n",
              "                @keyframes spin {\n",
              "                    from { transform: rotate(0deg); }\n",
              "                    to { transform: rotate(360deg); }\n",
              "                }\n",
              "\n",
              "                .spinner-container {\n",
              "                    display: flex;\n",
              "                    align-items: center;\n",
              "                    margin-bottom: 3px;\n",
              "                }\n",
              "\n",
              "                .spinner {\n",
              "                    border: 3px solid rgba(0, 0, 0, 0.1);\n",
              "                    border-left-color: lightblue;\n",
              "                    border-radius: 50%;\n",
              "                    width: 12px;\n",
              "                    height: 12px;\n",
              "                    animation: spin 1s linear infinite;\n",
              "                }\n",
              "\n",
              "                .spinner-text {\n",
              "                    padding-left: 6px;\n",
              "                }\n",
              "            </style>\n",
              "        "
            ]
          },
          "metadata": {}
        },
        {
          "output_type": "display_data",
          "data": {
            "text/plain": [
              "<IPython.core.display.Javascript object>"
            ],
            "application/javascript": [
              "\n",
              "            const element = document.getElementById(\"20ed1633-a27e-4162-abc3-f36a765e4520-circle\");\n",
              "            element.style.border = \"3px solid limegreen\";\n",
              "            element.style.animation = \"none\";\n",
              "\n",
              "            const text = document.getElementById(\"20ed1633-a27e-4162-abc3-f36a765e4520-text\");\n",
              "            text.innerText = \"Initialized Chromedriver\";\n",
              "        "
            ]
          },
          "metadata": {}
        }
      ]
    },
    {
      "cell_type": "markdown",
      "source": [
        "   # Mostrar los DataFrames"
      ],
      "metadata": {
        "id": "Meshlde0whkt"
      }
    },
    {
      "cell_type": "code",
      "source": [
        "def guardar_en_excel():\n",
        "    # Create an ExcelWriter object\n",
        "    writer = pd.ExcelWriter('pharos_data.xlsx', engine='xlsxwriter')\n",
        "\n",
        "    # Write each DataFrame to a different sheet\n",
        "    df_info.to_excel(writer, sheet_name='Info', index=False)\n",
        "    df_omim.to_excel(writer, sheet_name='OMIM', index=False)\n",
        "    df_ligandos.to_excel(writer, sheet_name='Ligandos', index=False)\n",
        "    df_farmacos.to_excel(writer, sheet_name='Farmacos', index=False)\n",
        "    df_relaciones.to_excel(writer, sheet_name='Relaciones', index=False)\n",
        "    df_vias.to_excel(writer, sheet_name='Vias', index=False)\n",
        "\n",
        "    # Save the Excel file\n",
        "    writer.save()\n",
        "    print(\"DataFrames saved to pharos_data.xlsx\")"
      ],
      "metadata": {
        "id": "tll8D1C92kxt"
      },
      "execution_count": 7,
      "outputs": []
    },
    {
      "cell_type": "code",
      "source": [
        "def mostrar_dataframe(titulo, df):\n",
        "      \"\"\" Muestra un DataFrame con título o un mensaje si está vacío \"\"\"\n",
        "      display(Markdown(f\"## {titulo}\"))\n",
        "      if df.empty:\n",
        "          display(Markdown(\"> ⚠️ No se han encontrado datos.\"))\n",
        "      else:\n",
        "          display(Markdown(df.to_markdown(index=False)))"
      ],
      "metadata": {
        "id": "xXjaLDFAMJH6"
      },
      "execution_count": 8,
      "outputs": []
    },
    {
      "cell_type": "code",
      "source": [
        "if(dataIsfetched):\n",
        "    mostrar_dataframe(\"1. Información Principal del Target\", df_info)\n",
        "    mostrar_dataframe(\"2. Referencias OMIM\", df_omim)\n",
        "    mostrar_dataframe(\"3. Ligandos Conocidos\", df_ligandos)\n",
        "    mostrar_dataframe(\"4. Fármacos Aprobados\", df_farmacos)\n",
        "\n",
        "    display(Markdown(\"## 5. Proteínas Interactuantes\"))\n",
        "    if df_relaciones.empty:\n",
        "        display(Markdown(\"> ⚠️ No se han encontrado interacciones.\"))\n",
        "    else:\n",
        "        for name, df in df_relaciones.groupby(\"Proteina_ID\"):\n",
        "            mostrar_dataframe(f\"### Interacción: {name}\",df)\n",
        "            display(Markdown(\"---\"))\n",
        "\n",
        "    mostrar_dataframe(\"6. Número de Vías por Fuente\", df_numero_vias_por_fuente)\n",
        "    mostrar_dataframe(\"7. Detalle de Vías Biológicas\", df_vias)\n",
        "\n",
        "else:\n",
        "    print(\"No se encontraron datos para el target solicitado.\")\n",
        "    #guardar_en_excel"
      ],
      "metadata": {
        "colab": {
          "base_uri": "https://localhost:8080/",
          "height": 1000
        },
        "id": "EJnz7R07wnf6",
        "outputId": "6c792727-2ce2-48ee-ebc4-81dac265694e"
      },
      "execution_count": 9,
      "outputs": [
        {
          "output_type": "display_data",
          "data": {
            "text/plain": [
              "<IPython.core.display.Markdown object>"
            ],
            "text/markdown": "## 1. Información Principal del Target"
          },
          "metadata": {}
        },
        {
          "output_type": "display_data",
          "data": {
            "text/plain": [
              "<IPython.core.display.Markdown object>"
            ],
            "text/markdown": "| nombre        | uniprot_ID   | descripcion                                                                                                                                                                                                                                                                                                                                                                                                                                                                                                                                                                                                                                                                                                                                                                                                                                                                                                                                                                                                                                                   | claseDiana   | secuencia                                                                                                                                           |\n|:--------------|:-------------|:--------------------------------------------------------------------------------------------------------------------------------------------------------------------------------------------------------------------------------------------------------------------------------------------------------------------------------------------------------------------------------------------------------------------------------------------------------------------------------------------------------------------------------------------------------------------------------------------------------------------------------------------------------------------------------------------------------------------------------------------------------------------------------------------------------------------------------------------------------------------------------------------------------------------------------------------------------------------------------------------------------------------------------------------------------------|:-------------|:----------------------------------------------------------------------------------------------------------------------------------------------------|\n| Transthyretin | P02766       | This gene encodes one of the three prealbumins, which include alpha-1-antitrypsin, transthyretin and orosomucoid. The encoded protein, transthyretin, is a homo-tetrameric carrier protein, which transports thyroid hormones in the plasma and cerebrospinal fluid. It is also involved in the transport of retinol (vitamin A) in the plasma by associating with retinol-binding protein. The protein may also be involved in other intracellular processes including proteolysis, nerve regeneration, autophagy and glucose homeostasis. Mutations in this gene are associated with amyloid deposition, predominantly affecting peripheral nerves or the heart, while a small percentage of the gene mutations are non-amyloidogenic. The mutations are implicated in the etiology of several diseases, including amyloidotic polyneuropathy, euthyroid hyperthyroxinaemia, amyloidotic vitreous opacities, cardiomyopathy, oculoleptomeningeal amyloidosis, meningocerebrovascular amyloidosis and carpal tunnel syndrome. [provided by RefSeq, Aug 2017] | Tclin        | MASHRLLLLCLAGLVFVSEAGPTGTGESKCPLMVKVLDAVRGSPAINVAVHVFRKAADDTWEPFASGKTSESGELHGLTTEEEFVEGIYKVEIDTKSYWKALGISPFHEHAEVVFTANDSGPRRYTIAALLSPYSYSTTAVVTNPKE |"
          },
          "metadata": {}
        },
        {
          "output_type": "display_data",
          "data": {
            "text/plain": [
              "<IPython.core.display.Markdown object>"
            ],
            "text/markdown": "## 2. Referencias OMIM"
          },
          "metadata": {}
        },
        {
          "output_type": "display_data",
          "data": {
            "text/plain": [
              "<IPython.core.display.Markdown object>"
            ],
            "text/markdown": "|   OMIM_ID | nombre                                         |\n|----------:|:-----------------------------------------------|\n|    105210 | AMYLOIDOSIS, HEREDITARY, TRANSTHYRETIN-RELATED |\n|    115430 | CARPAL TUNNEL SYNDROME                         |\n|    145680 | HYPERTHYROXINEMIA, DYSTRANSTHYRETINEMIC        |\n|    176300 | TRANSTHYRETIN                                  |"
          },
          "metadata": {}
        },
        {
          "output_type": "display_data",
          "data": {
            "text/plain": [
              "<IPython.core.display.Markdown object>"
            ],
            "text/markdown": "## 3. Ligandos Conocidos"
          },
          "metadata": {}
        },
        {
          "output_type": "display_data",
          "data": {
            "text/plain": [
              "<IPython.core.display.Markdown object>"
            ],
            "text/markdown": "| nombre                                                              | ligando_ID   | Selleckchem                                                    |\n|:--------------------------------------------------------------------|:-------------|:---------------------------------------------------------------|\n| epigallocatechin gallate                                            | 8G955XN2LS69 | www.selleckchem.com/products/(-)-Epigallocatechin-gallate.html |\n| resveratrol                                                         | GZ9FHWTXFT11 | www.selleckchem.com/products/Resveratrol.html                  |\n| Luteolin                                                            | 9GVZD45BYUVS | www.selleckchem.com/products/luteolin.html                     |\n| Apigenin                                                            | 8RC47GHQ6Y29 | www.selleckchem.com/products/Apigenin.html                     |\n| US8877795, 12                                                       | HX998FFQD3UR | No encontrado                                                  |\n| 5-(naphthalen-1-ylmethylene)thiazolidine-2,4-dione                  | N23MR9U5N3MU | www.selleckchem.com/products/prt4165.html                      |\n| SID11113526                                                         | J4UFRQ3753F8 | No encontrado                                                  |\n| 4-(2,4-dichlorophenoxy)-3-methoxybenzoic acid                       | ZJ77UYTXTXU6 | www.selleckchem.com/products/vanillic-acid.html                |\n| 2-(2,4-dichlorophenoxy)-5-(hydroxymethyl)phenol                     | Z1W4BFJFDRCN | www.selleckchem.com/products/fot1-cn128-hydrochloride.html     |\n| (E)-5-[2-(5-chlorofuran-2-yl)vinyl]-4-methylfuran-3-carboxylic acid | NH67TGJYCVSM | No encontrado                                                  |"
          },
          "metadata": {}
        },
        {
          "output_type": "display_data",
          "data": {
            "text/plain": [
              "<IPython.core.display.Markdown object>"
            ],
            "text/markdown": "## 4. Fármacos Aprobados"
          },
          "metadata": {}
        },
        {
          "output_type": "display_data",
          "data": {
            "text/plain": [
              "<IPython.core.display.Markdown object>"
            ],
            "text/markdown": "| nombre            | ligando_ID   | Selleckchem                                            |\n|:------------------|:-------------|:-------------------------------------------------------|\n| flufenamic acid   | 4GG5L8MY9B2H | www.selleckchem.com/products/flufenamic-acid.html      |\n| diclofenac        | MUDSKU2U2VCB | www.selleckchem.com/products/diclofenac-epolamine.html |\n| meclofenamic acid | X1WT2J1J3WQ1 | www.selleckchem.com/products/meclofenamic-acid.html    |\n| niflumic acid     | 4VJD167PTD4T | www.selleckchem.com/products/niflumic-acid.html        |\n| diflunisal        | BXS2UURH6WPK | www.selleckchem.com/products/diflunisal.html           |\n| gemfibrozil       | AHSM1113H7C1 | www.selleckchem.com/products/Gemfibrozil(Lopid).html   |\n| tolcapone         | DWDDYTUXCFFS | www.selleckchem.com/products/tolcapone.html            |\n| tolfenamic acid   | P6UJVP28YX23 | www.selleckchem.com/products/tolfenamic-acid.html      |\n| tafamidis         | 45CWA8GX7BAP | www.selleckchem.com/products/tafamidis.html            |\n| patisiran         | patisiran    | www.selleckchem.com/products/Lapatinib-Ditosylate.html |"
          },
          "metadata": {}
        },
        {
          "output_type": "display_data",
          "data": {
            "text/plain": [
              "<IPython.core.display.Markdown object>"
            ],
            "text/markdown": "## 5. Proteínas Interactuantes"
          },
          "metadata": {}
        },
        {
          "output_type": "display_data",
          "data": {
            "text/plain": [
              "<IPython.core.display.Markdown object>"
            ],
            "text/markdown": "## ### Interacción: ATG7"
          },
          "metadata": {}
        },
        {
          "output_type": "display_data",
          "data": {
            "text/plain": [
              "<IPython.core.display.Markdown object>"
            ],
            "text/markdown": "| Proteina                                       | Proteina_ID   | Clase Diana   | Propiedad   |     Valor |\n|:-----------------------------------------------|:--------------|:--------------|:------------|----------:|\n| Ubiquitin-like modifier-activating enzyme ATG7 | ATG7          | Tchem         | p_wrong     | 8.2e-08   |\n| Ubiquitin-like modifier-activating enzyme ATG7 | ATG7          | Tchem         | p_ni        | 0.0277564 |"
          },
          "metadata": {}
        },
        {
          "output_type": "display_data",
          "data": {
            "text/plain": [
              "<IPython.core.display.Markdown object>"
            ],
            "text/markdown": "---"
          },
          "metadata": {}
        },
        {
          "output_type": "display_data",
          "data": {
            "text/plain": [
              "<IPython.core.display.Markdown object>"
            ],
            "text/markdown": "## ### Interacción: CES1"
          },
          "metadata": {}
        },
        {
          "output_type": "display_data",
          "data": {
            "text/plain": [
              "<IPython.core.display.Markdown object>"
            ],
            "text/markdown": "| Proteina                 | Proteina_ID   | Clase Diana   | Propiedad   |     Valor |\n|:-------------------------|:--------------|:--------------|:------------|----------:|\n| Liver carboxylesterase 1 | CES1          | Tchem         | p_wrong     | 2.4e-08   |\n| Liver carboxylesterase 1 | CES1          | Tchem         | p_ni        | 0.0719128 |"
          },
          "metadata": {}
        },
        {
          "output_type": "display_data",
          "data": {
            "text/plain": [
              "<IPython.core.display.Markdown object>"
            ],
            "text/markdown": "---"
          },
          "metadata": {}
        },
        {
          "output_type": "display_data",
          "data": {
            "text/plain": [
              "<IPython.core.display.Markdown object>"
            ],
            "text/markdown": "## ### Interacción: DDX31"
          },
          "metadata": {}
        },
        {
          "output_type": "display_data",
          "data": {
            "text/plain": [
              "<IPython.core.display.Markdown object>"
            ],
            "text/markdown": "| Proteina                                  | Proteina_ID   | Clase Diana   | Propiedad   |     Valor |\n|:------------------------------------------|:--------------|:--------------|:------------|----------:|\n| Probable ATP-dependent RNA helicase DDX31 | DDX31         | Tbio          | p_wrong     | 0.0268035 |\n| Probable ATP-dependent RNA helicase DDX31 | DDX31         | Tbio          | p_ni        | 4.54e-07  |"
          },
          "metadata": {}
        },
        {
          "output_type": "display_data",
          "data": {
            "text/plain": [
              "<IPython.core.display.Markdown object>"
            ],
            "text/markdown": "---"
          },
          "metadata": {}
        },
        {
          "output_type": "display_data",
          "data": {
            "text/plain": [
              "<IPython.core.display.Markdown object>"
            ],
            "text/markdown": "## ### Interacción: FKBP7"
          },
          "metadata": {}
        },
        {
          "output_type": "display_data",
          "data": {
            "text/plain": [
              "<IPython.core.display.Markdown object>"
            ],
            "text/markdown": "| Proteina                                  | Proteina_ID   | Clase Diana   | Propiedad   |     Valor |\n|:------------------------------------------|:--------------|:--------------|:------------|----------:|\n| Peptidyl-prolyl cis-trans isomerase FKBP7 | FKBP7         | Tbio          | p_wrong     | 1.51e-06  |\n| Peptidyl-prolyl cis-trans isomerase FKBP7 | FKBP7         | Tbio          | p_ni        | 0.0767441 |"
          },
          "metadata": {}
        },
        {
          "output_type": "display_data",
          "data": {
            "text/plain": [
              "<IPython.core.display.Markdown object>"
            ],
            "text/markdown": "---"
          },
          "metadata": {}
        },
        {
          "output_type": "display_data",
          "data": {
            "text/plain": [
              "<IPython.core.display.Markdown object>"
            ],
            "text/markdown": "## ### Interacción: INPP5A"
          },
          "metadata": {}
        },
        {
          "output_type": "display_data",
          "data": {
            "text/plain": [
              "<IPython.core.display.Markdown object>"
            ],
            "text/markdown": "| Proteina                                          | Proteina_ID   | Clase Diana   | Propiedad   |     Valor |\n|:--------------------------------------------------|:--------------|:--------------|:------------|----------:|\n| Type I inositol 1,4,5-trisphosphate 5-phosphatase | INPP5A        | Tbio          | p_wrong     | 4e-09     |\n| Type I inositol 1,4,5-trisphosphate 5-phosphatase | INPP5A        | Tbio          | p_ni        | 0.0379895 |"
          },
          "metadata": {}
        },
        {
          "output_type": "display_data",
          "data": {
            "text/plain": [
              "<IPython.core.display.Markdown object>"
            ],
            "text/markdown": "---"
          },
          "metadata": {}
        },
        {
          "output_type": "display_data",
          "data": {
            "text/plain": [
              "<IPython.core.display.Markdown object>"
            ],
            "text/markdown": "## ### Interacción: MTMR6"
          },
          "metadata": {}
        },
        {
          "output_type": "display_data",
          "data": {
            "text/plain": [
              "<IPython.core.display.Markdown object>"
            ],
            "text/markdown": "| Proteina                       | Proteina_ID   | Clase Diana   | Propiedad   |    Valor |\n|:-------------------------------|:--------------|:--------------|:------------|---------:|\n| Myotubularin-related protein 6 | MTMR6         | Tbio          | p_ni        | 7.69e-06 |"
          },
          "metadata": {}
        },
        {
          "output_type": "display_data",
          "data": {
            "text/plain": [
              "<IPython.core.display.Markdown object>"
            ],
            "text/markdown": "---"
          },
          "metadata": {}
        },
        {
          "output_type": "display_data",
          "data": {
            "text/plain": [
              "<IPython.core.display.Markdown object>"
            ],
            "text/markdown": "## ### Interacción: MTMR9"
          },
          "metadata": {}
        },
        {
          "output_type": "display_data",
          "data": {
            "text/plain": [
              "<IPython.core.display.Markdown object>"
            ],
            "text/markdown": "| Proteina                       | Proteina_ID   | Clase Diana   | Propiedad   |       Valor |\n|:-------------------------------|:--------------|:--------------|:------------|------------:|\n| Myotubularin-related protein 9 | MTMR9         | Tbio          | p_ni        | 0.000497594 |"
          },
          "metadata": {}
        },
        {
          "output_type": "display_data",
          "data": {
            "text/plain": [
              "<IPython.core.display.Markdown object>"
            ],
            "text/markdown": "---"
          },
          "metadata": {}
        },
        {
          "output_type": "display_data",
          "data": {
            "text/plain": [
              "<IPython.core.display.Markdown object>"
            ],
            "text/markdown": "## ### Interacción: NPC2"
          },
          "metadata": {}
        },
        {
          "output_type": "display_data",
          "data": {
            "text/plain": [
              "<IPython.core.display.Markdown object>"
            ],
            "text/markdown": "| Proteina                                    | Proteina_ID   | Clase Diana   | Propiedad   |      Valor |\n|:--------------------------------------------|:--------------|:--------------|:------------|-----------:|\n| NPC intracellular cholesterol transporter 2 | NPC2          | Tbio          | p_wrong     | 1.29e-07   |\n| NPC intracellular cholesterol transporter 2 | NPC2          | Tbio          | p_ni        | 0.00294973 |"
          },
          "metadata": {}
        },
        {
          "output_type": "display_data",
          "data": {
            "text/plain": [
              "<IPython.core.display.Markdown object>"
            ],
            "text/markdown": "---"
          },
          "metadata": {}
        },
        {
          "output_type": "display_data",
          "data": {
            "text/plain": [
              "<IPython.core.display.Markdown object>"
            ],
            "text/markdown": "## ### Interacción: SNX27"
          },
          "metadata": {}
        },
        {
          "output_type": "display_data",
          "data": {
            "text/plain": [
              "<IPython.core.display.Markdown object>"
            ],
            "text/markdown": "| Proteina         | Proteina_ID   | Clase Diana   | Propiedad   |     Valor |\n|:-----------------|:--------------|:--------------|:------------|----------:|\n| Sorting nexin-27 | SNX27         | Tbio          | p_wrong     | 0.0318093 |\n| Sorting nexin-27 | SNX27         | Tbio          | p_ni        | 5.36e-07  |"
          },
          "metadata": {}
        },
        {
          "output_type": "display_data",
          "data": {
            "text/plain": [
              "<IPython.core.display.Markdown object>"
            ],
            "text/markdown": "---"
          },
          "metadata": {}
        },
        {
          "output_type": "display_data",
          "data": {
            "text/plain": [
              "<IPython.core.display.Markdown object>"
            ],
            "text/markdown": "## ### Interacción: VWA1"
          },
          "metadata": {}
        },
        {
          "output_type": "display_data",
          "data": {
            "text/plain": [
              "<IPython.core.display.Markdown object>"
            ],
            "text/markdown": "| Proteina                                            | Proteina_ID   | Clase Diana   | Propiedad   |       Valor |\n|:----------------------------------------------------|:--------------|:--------------|:------------|------------:|\n| von Willebrand factor A domain-containing protein 1 | VWA1          | Tbio          | p_wrong     | 6.7971e-05  |\n| von Willebrand factor A domain-containing protein 1 | VWA1          | Tbio          | p_ni        | 0.000883924 |"
          },
          "metadata": {}
        },
        {
          "output_type": "display_data",
          "data": {
            "text/plain": [
              "<IPython.core.display.Markdown object>"
            ],
            "text/markdown": "---"
          },
          "metadata": {}
        },
        {
          "output_type": "display_data",
          "data": {
            "text/plain": [
              "<IPython.core.display.Markdown object>"
            ],
            "text/markdown": "## 6. Número de Vías por Fuente"
          },
          "metadata": {}
        },
        {
          "output_type": "display_data",
          "data": {
            "text/plain": [
              "<IPython.core.display.Markdown object>"
            ],
            "text/markdown": "| fuente              |   numVias |\n|:--------------------|----------:|\n| Reactome            |        21 |\n| KEGG                |         1 |\n| PathwayCommons: pid |         1 |"
          },
          "metadata": {}
        },
        {
          "output_type": "display_data",
          "data": {
            "text/plain": [
              "<IPython.core.display.Markdown object>"
            ],
            "text/markdown": "## 7. Detalle de Vías Biológicas"
          },
          "metadata": {}
        },
        {
          "output_type": "display_data",
          "data": {
            "text/plain": [
              "<IPython.core.display.Markdown object>"
            ],
            "text/markdown": "|   viaPharos_ID | nombre                                        | fuente              | fuente_ID     | url                                                                                                                           |\n|---------------:|:----------------------------------------------|:--------------------|:--------------|:------------------------------------------------------------------------------------------------------------------------------|\n|          31589 | Thyroid hormone synthesis                     | KEGG                | path:hsa04918 | http://www.kegg.jp/kegg-bin/show_pathway?hsa04918                                                                             |\n|          56631 | FOXA2 and FOXA3 transcription factor networks | PathwayCommons: pid |               | http://apps.pathwaycommons.org/pathways?uri=http%3A%2F%2Fpathwaycommons.org%2Fpc11%2FPathway_eb2ae7c355dd9dfea83cd5c1b235ba29 |\n|          62326 | Amyloid fiber formation                       | Reactome            | R-HSA-977225  | https://idg.reactome.org/PathwayBrowser/#/R-HSA-977225&FLG=TTR                                                                |\n|          81853 | Disease                                       | Reactome            | R-HSA-1643685 | https://idg.reactome.org/PathwayBrowser/#/R-HSA-1643685&FLG=TTR                                                               |\n|          82086 | Diseases associated with visual transduction  | Reactome            | R-HSA-2474795 | https://idg.reactome.org/PathwayBrowser/#/R-HSA-2474795&FLG=TTR                                                               |\n|          82783 | Diseases of signal transduction               | Reactome            | R-HSA-5663202 | https://idg.reactome.org/PathwayBrowser/#/R-HSA-5663202&FLG=TTR                                                               |\n|          86077 | Extracellular matrix organization             | Reactome            | R-HSA-1474244 | https://idg.reactome.org/PathwayBrowser/#/R-HSA-1474244&FLG=TTR                                                               |\n|          89443 | G alpha (i) signalling events                 | Reactome            | R-HSA-418594  | https://idg.reactome.org/PathwayBrowser/#/R-HSA-418594&FLG=TTR                                                                |\n|          92590 | GPCR downstream signalling                    | Reactome            | R-HSA-388396  | https://idg.reactome.org/PathwayBrowser/#/R-HSA-388396&FLG=TTR                                                                |\n|         102827 | Immune System                                 | Reactome            | R-HSA-168256  | https://idg.reactome.org/PathwayBrowser/#/R-HSA-168256&FLG=TTR                                                                |"
          },
          "metadata": {}
        }
      ]
    }
  ]
}